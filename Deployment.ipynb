{
 "cells": [
  {
   "cell_type": "markdown",
   "metadata": {},
   "source": [
    "# Installing Pyodbc library"
   ]
  },
  {
   "cell_type": "code",
   "execution_count": 1,
   "metadata": {},
   "outputs": [],
   "source": [
    "#!pip install pyodbc"
   ]
  },
  {
   "cell_type": "code",
   "execution_count": 2,
   "metadata": {},
   "outputs": [],
   "source": [
    "##Importing libraries\n",
    "import pandas as pd\n",
    "import numpy as np\n",
    "import pyodbc\n",
    "import matplotlib\n"
   ]
  },
  {
   "cell_type": "markdown",
   "metadata": {},
   "source": [
    "# Creating Connection to Database"
   ]
  },
  {
   "cell_type": "code",
   "execution_count": 3,
   "metadata": {},
   "outputs": [
    {
     "data": {
      "text/plain": [
       "<pyodbc.Connection at 0x239d8a3bac0>"
      ]
     },
     "execution_count": 3,
     "metadata": {},
     "output_type": "execute_result"
    }
   ],
   "source": [
    "#conn = pyodbc.connect(r'Driver=SQL Server; Server= DESKTOP-1B460V0;Database = stroke; Trusted_Connection = yes;')\n",
    "conn = pyodbc.connect('Driver={SQL Server};'\n",
    "                      'Server=DESKTOP-1B460V0;'\n",
    "                      'Database=stroke;'\n",
    "                      'Trusted_Connection=yes;')\n",
    "cursor = conn.cursor()\n",
    "cursor\n",
    "conn"
   ]
  },
  {
   "cell_type": "code",
   "execution_count": 4,
   "metadata": {},
   "outputs": [
    {
     "data": {
      "text/plain": [
       "<pyodbc.Connection at 0x239d8a3bac0>"
      ]
     },
     "execution_count": 4,
     "metadata": {},
     "output_type": "execute_result"
    }
   ],
   "source": [
    "conn"
   ]
  },
  {
   "cell_type": "markdown",
   "metadata": {},
   "source": [
    "## Read data from the database"
   ]
  },
  {
   "cell_type": "code",
   "execution_count": 5,
   "metadata": {},
   "outputs": [
    {
     "name": "stderr",
     "output_type": "stream",
     "text": [
      "C:\\Users\\SIR BOLU\\anaconda3\\lib\\site-packages\\pandas\\io\\sql.py:761: UserWarning: pandas only support SQLAlchemy connectable(engine/connection) ordatabase string URI or sqlite3 DBAPI2 connectionother DBAPI2 objects are not tested, please consider using SQLAlchemy\n",
      "  warnings.warn(\n"
     ]
    }
   ],
   "source": [
    "data= pd.read_sql_query(''' select * from dbo.variables''', conn)\n",
    "data_df = pd.DataFrame(data)"
   ]
  },
  {
   "cell_type": "code",
   "execution_count": 6,
   "metadata": {},
   "outputs": [
    {
     "data": {
      "text/html": [
       "<div>\n",
       "<style scoped>\n",
       "    .dataframe tbody tr th:only-of-type {\n",
       "        vertical-align: middle;\n",
       "    }\n",
       "\n",
       "    .dataframe tbody tr th {\n",
       "        vertical-align: top;\n",
       "    }\n",
       "\n",
       "    .dataframe thead th {\n",
       "        text-align: right;\n",
       "    }\n",
       "</style>\n",
       "<table border=\"1\" class=\"dataframe\">\n",
       "  <thead>\n",
       "    <tr style=\"text-align: right;\">\n",
       "      <th></th>\n",
       "      <th>id</th>\n",
       "      <th>gender</th>\n",
       "      <th>age</th>\n",
       "      <th>hypertension</th>\n",
       "      <th>heart_disease</th>\n",
       "      <th>ever_married</th>\n",
       "      <th>work_type</th>\n",
       "      <th>Residence_type</th>\n",
       "      <th>avg_glucose_level</th>\n",
       "      <th>bmi</th>\n",
       "      <th>smoking_status</th>\n",
       "      <th>stroke</th>\n",
       "    </tr>\n",
       "  </thead>\n",
       "  <tbody>\n",
       "    <tr>\n",
       "      <th>0</th>\n",
       "      <td>9046</td>\n",
       "      <td>Male</td>\n",
       "      <td>67</td>\n",
       "      <td>0</td>\n",
       "      <td>1</td>\n",
       "      <td>Yes</td>\n",
       "      <td>Private</td>\n",
       "      <td>Urban</td>\n",
       "      <td>228.69</td>\n",
       "      <td>36.6</td>\n",
       "      <td>formerly smoked</td>\n",
       "      <td>1</td>\n",
       "    </tr>\n",
       "    <tr>\n",
       "      <th>1</th>\n",
       "      <td>51676</td>\n",
       "      <td>Female</td>\n",
       "      <td>61</td>\n",
       "      <td>0</td>\n",
       "      <td>0</td>\n",
       "      <td>Yes</td>\n",
       "      <td>Self-employed</td>\n",
       "      <td>Rural</td>\n",
       "      <td>202.21</td>\n",
       "      <td></td>\n",
       "      <td>never smoked</td>\n",
       "      <td>1</td>\n",
       "    </tr>\n",
       "    <tr>\n",
       "      <th>2</th>\n",
       "      <td>31112</td>\n",
       "      <td>Male</td>\n",
       "      <td>80</td>\n",
       "      <td>0</td>\n",
       "      <td>1</td>\n",
       "      <td>Yes</td>\n",
       "      <td>Private</td>\n",
       "      <td>Rural</td>\n",
       "      <td>105.92</td>\n",
       "      <td>32.5</td>\n",
       "      <td>never smoked</td>\n",
       "      <td>1</td>\n",
       "    </tr>\n",
       "    <tr>\n",
       "      <th>3</th>\n",
       "      <td>60182</td>\n",
       "      <td>Female</td>\n",
       "      <td>49</td>\n",
       "      <td>0</td>\n",
       "      <td>0</td>\n",
       "      <td>Yes</td>\n",
       "      <td>Private</td>\n",
       "      <td>Urban</td>\n",
       "      <td>171.23</td>\n",
       "      <td>34.4</td>\n",
       "      <td>smokes</td>\n",
       "      <td>1</td>\n",
       "    </tr>\n",
       "    <tr>\n",
       "      <th>4</th>\n",
       "      <td>1665</td>\n",
       "      <td>Female</td>\n",
       "      <td>79</td>\n",
       "      <td>1</td>\n",
       "      <td>0</td>\n",
       "      <td>Yes</td>\n",
       "      <td>Self-employed</td>\n",
       "      <td>Rural</td>\n",
       "      <td>174.12</td>\n",
       "      <td>24</td>\n",
       "      <td>never smoked</td>\n",
       "      <td>1</td>\n",
       "    </tr>\n",
       "    <tr>\n",
       "      <th>...</th>\n",
       "      <td>...</td>\n",
       "      <td>...</td>\n",
       "      <td>...</td>\n",
       "      <td>...</td>\n",
       "      <td>...</td>\n",
       "      <td>...</td>\n",
       "      <td>...</td>\n",
       "      <td>...</td>\n",
       "      <td>...</td>\n",
       "      <td>...</td>\n",
       "      <td>...</td>\n",
       "      <td>...</td>\n",
       "    </tr>\n",
       "    <tr>\n",
       "      <th>5105</th>\n",
       "      <td>18234</td>\n",
       "      <td>Female</td>\n",
       "      <td>80</td>\n",
       "      <td>1</td>\n",
       "      <td>0</td>\n",
       "      <td>Yes</td>\n",
       "      <td>Private</td>\n",
       "      <td>Urban</td>\n",
       "      <td>83.75</td>\n",
       "      <td></td>\n",
       "      <td>never smoked</td>\n",
       "      <td>0</td>\n",
       "    </tr>\n",
       "    <tr>\n",
       "      <th>5106</th>\n",
       "      <td>44873</td>\n",
       "      <td>Female</td>\n",
       "      <td>81</td>\n",
       "      <td>0</td>\n",
       "      <td>0</td>\n",
       "      <td>Yes</td>\n",
       "      <td>Self-employed</td>\n",
       "      <td>Urban</td>\n",
       "      <td>125.2</td>\n",
       "      <td>40</td>\n",
       "      <td>never smoked</td>\n",
       "      <td>0</td>\n",
       "    </tr>\n",
       "    <tr>\n",
       "      <th>5107</th>\n",
       "      <td>19723</td>\n",
       "      <td>Female</td>\n",
       "      <td>35</td>\n",
       "      <td>0</td>\n",
       "      <td>0</td>\n",
       "      <td>Yes</td>\n",
       "      <td>Self-employed</td>\n",
       "      <td>Rural</td>\n",
       "      <td>82.99</td>\n",
       "      <td>30.6</td>\n",
       "      <td>never smoked</td>\n",
       "      <td>0</td>\n",
       "    </tr>\n",
       "    <tr>\n",
       "      <th>5108</th>\n",
       "      <td>37544</td>\n",
       "      <td>Male</td>\n",
       "      <td>51</td>\n",
       "      <td>0</td>\n",
       "      <td>0</td>\n",
       "      <td>Yes</td>\n",
       "      <td>Private</td>\n",
       "      <td>Rural</td>\n",
       "      <td>166.29</td>\n",
       "      <td>25.6</td>\n",
       "      <td>formerly smoked</td>\n",
       "      <td>0</td>\n",
       "    </tr>\n",
       "    <tr>\n",
       "      <th>5109</th>\n",
       "      <td>44679</td>\n",
       "      <td>Female</td>\n",
       "      <td>44</td>\n",
       "      <td>0</td>\n",
       "      <td>0</td>\n",
       "      <td>Yes</td>\n",
       "      <td>Govt_job</td>\n",
       "      <td>Urban</td>\n",
       "      <td>85.28</td>\n",
       "      <td>26.2</td>\n",
       "      <td>Unknown</td>\n",
       "      <td>0</td>\n",
       "    </tr>\n",
       "  </tbody>\n",
       "</table>\n",
       "<p>5110 rows × 12 columns</p>\n",
       "</div>"
      ],
      "text/plain": [
       "         id  gender age hypertension heart_disease ever_married  \\\n",
       "0      9046    Male  67            0             1          Yes   \n",
       "1     51676  Female  61            0             0          Yes   \n",
       "2     31112    Male  80            0             1          Yes   \n",
       "3     60182  Female  49            0             0          Yes   \n",
       "4      1665  Female  79            1             0          Yes   \n",
       "...     ...     ...  ..          ...           ...          ...   \n",
       "5105  18234  Female  80            1             0          Yes   \n",
       "5106  44873  Female  81            0             0          Yes   \n",
       "5107  19723  Female  35            0             0          Yes   \n",
       "5108  37544    Male  51            0             0          Yes   \n",
       "5109  44679  Female  44            0             0          Yes   \n",
       "\n",
       "          work_type Residence_type avg_glucose_level   bmi   smoking_status  \\\n",
       "0           Private          Urban            228.69  36.6  formerly smoked   \n",
       "1     Self-employed          Rural            202.21           never smoked   \n",
       "2           Private          Rural            105.92  32.5     never smoked   \n",
       "3           Private          Urban            171.23  34.4           smokes   \n",
       "4     Self-employed          Rural            174.12    24     never smoked   \n",
       "...             ...            ...               ...   ...              ...   \n",
       "5105        Private          Urban             83.75           never smoked   \n",
       "5106  Self-employed          Urban             125.2    40     never smoked   \n",
       "5107  Self-employed          Rural             82.99  30.6     never smoked   \n",
       "5108        Private          Rural            166.29  25.6  formerly smoked   \n",
       "5109       Govt_job          Urban             85.28  26.2          Unknown   \n",
       "\n",
       "     stroke  \n",
       "0         1  \n",
       "1         1  \n",
       "2         1  \n",
       "3         1  \n",
       "4         1  \n",
       "...     ...  \n",
       "5105      0  \n",
       "5106      0  \n",
       "5107      0  \n",
       "5108      0  \n",
       "5109      0  \n",
       "\n",
       "[5110 rows x 12 columns]"
      ]
     },
     "execution_count": 6,
     "metadata": {},
     "output_type": "execute_result"
    }
   ],
   "source": [
    "data_df"
   ]
  },
  {
   "cell_type": "code",
   "execution_count": 7,
   "metadata": {},
   "outputs": [
    {
     "data": {
      "text/plain": [
       "id                   object\n",
       "gender               object\n",
       "age                  object\n",
       "hypertension         object\n",
       "heart_disease        object\n",
       "ever_married         object\n",
       "work_type            object\n",
       "Residence_type       object\n",
       "avg_glucose_level    object\n",
       "bmi                  object\n",
       "smoking_status       object\n",
       "stroke               object\n",
       "dtype: object"
      ]
     },
     "execution_count": 7,
     "metadata": {},
     "output_type": "execute_result"
    }
   ],
   "source": [
    "pd.to_numeric(data_df['age'], errors ='ignore')\n",
    "data_df.dtypes"
   ]
  },
  {
   "cell_type": "code",
   "execution_count": 8,
   "metadata": {},
   "outputs": [
    {
     "data": {
      "text/html": [
       "<div>\n",
       "<style scoped>\n",
       "    .dataframe tbody tr th:only-of-type {\n",
       "        vertical-align: middle;\n",
       "    }\n",
       "\n",
       "    .dataframe tbody tr th {\n",
       "        vertical-align: top;\n",
       "    }\n",
       "\n",
       "    .dataframe thead th {\n",
       "        text-align: right;\n",
       "    }\n",
       "</style>\n",
       "<table border=\"1\" class=\"dataframe\">\n",
       "  <thead>\n",
       "    <tr style=\"text-align: right;\">\n",
       "      <th></th>\n",
       "      <th>id</th>\n",
       "      <th>gender</th>\n",
       "      <th>age</th>\n",
       "      <th>hypertension</th>\n",
       "      <th>heart_disease</th>\n",
       "      <th>ever_married</th>\n",
       "      <th>work_type</th>\n",
       "      <th>Residence_type</th>\n",
       "      <th>avg_glucose_level</th>\n",
       "      <th>bmi</th>\n",
       "      <th>smoking_status</th>\n",
       "      <th>stroke</th>\n",
       "    </tr>\n",
       "  </thead>\n",
       "  <tbody>\n",
       "    <tr>\n",
       "      <th>0</th>\n",
       "      <td>9046</td>\n",
       "      <td>Male</td>\n",
       "      <td>67</td>\n",
       "      <td>0</td>\n",
       "      <td>1</td>\n",
       "      <td>Yes</td>\n",
       "      <td>Private</td>\n",
       "      <td>Urban</td>\n",
       "      <td>228.69</td>\n",
       "      <td>36.6</td>\n",
       "      <td>formerly smoked</td>\n",
       "      <td>1</td>\n",
       "    </tr>\n",
       "    <tr>\n",
       "      <th>1</th>\n",
       "      <td>51676</td>\n",
       "      <td>Female</td>\n",
       "      <td>61</td>\n",
       "      <td>0</td>\n",
       "      <td>0</td>\n",
       "      <td>Yes</td>\n",
       "      <td>Self-employed</td>\n",
       "      <td>Rural</td>\n",
       "      <td>202.21</td>\n",
       "      <td></td>\n",
       "      <td>never smoked</td>\n",
       "      <td>1</td>\n",
       "    </tr>\n",
       "    <tr>\n",
       "      <th>2</th>\n",
       "      <td>31112</td>\n",
       "      <td>Male</td>\n",
       "      <td>80</td>\n",
       "      <td>0</td>\n",
       "      <td>1</td>\n",
       "      <td>Yes</td>\n",
       "      <td>Private</td>\n",
       "      <td>Rural</td>\n",
       "      <td>105.92</td>\n",
       "      <td>32.5</td>\n",
       "      <td>never smoked</td>\n",
       "      <td>1</td>\n",
       "    </tr>\n",
       "    <tr>\n",
       "      <th>3</th>\n",
       "      <td>60182</td>\n",
       "      <td>Female</td>\n",
       "      <td>49</td>\n",
       "      <td>0</td>\n",
       "      <td>0</td>\n",
       "      <td>Yes</td>\n",
       "      <td>Private</td>\n",
       "      <td>Urban</td>\n",
       "      <td>171.23</td>\n",
       "      <td>34.4</td>\n",
       "      <td>smokes</td>\n",
       "      <td>1</td>\n",
       "    </tr>\n",
       "    <tr>\n",
       "      <th>4</th>\n",
       "      <td>1665</td>\n",
       "      <td>Female</td>\n",
       "      <td>79</td>\n",
       "      <td>1</td>\n",
       "      <td>0</td>\n",
       "      <td>Yes</td>\n",
       "      <td>Self-employed</td>\n",
       "      <td>Rural</td>\n",
       "      <td>174.12</td>\n",
       "      <td>24</td>\n",
       "      <td>never smoked</td>\n",
       "      <td>1</td>\n",
       "    </tr>\n",
       "  </tbody>\n",
       "</table>\n",
       "</div>"
      ],
      "text/plain": [
       "      id  gender age hypertension heart_disease ever_married      work_type  \\\n",
       "0   9046    Male  67            0             1          Yes        Private   \n",
       "1  51676  Female  61            0             0          Yes  Self-employed   \n",
       "2  31112    Male  80            0             1          Yes        Private   \n",
       "3  60182  Female  49            0             0          Yes        Private   \n",
       "4   1665  Female  79            1             0          Yes  Self-employed   \n",
       "\n",
       "  Residence_type avg_glucose_level   bmi   smoking_status stroke  \n",
       "0          Urban            228.69  36.6  formerly smoked      1  \n",
       "1          Rural            202.21           never smoked      1  \n",
       "2          Rural            105.92  32.5     never smoked      1  \n",
       "3          Urban            171.23  34.4           smokes      1  \n",
       "4          Rural            174.12    24     never smoked      1  "
      ]
     },
     "execution_count": 8,
     "metadata": {},
     "output_type": "execute_result"
    }
   ],
   "source": [
    "data_df.head()"
   ]
  },
  {
   "cell_type": "markdown",
   "metadata": {},
   "source": [
    "# Exploratory data Analysis using Datasist Library"
   ]
  },
  {
   "cell_type": "code",
   "execution_count": 9,
   "metadata": {},
   "outputs": [
    {
     "name": "stdout",
     "output_type": "stream",
     "text": [
      "Requirement already satisfied: datasist in c:\\users\\sir bolu\\anaconda3\\lib\\site-packages (1.5.3)\n",
      "Requirement already satisfied: pandas in c:\\users\\sir bolu\\anaconda3\\lib\\site-packages (from datasist) (1.4.2)\n",
      "Requirement already satisfied: seaborn in c:\\users\\sir bolu\\anaconda3\\lib\\site-packages (from datasist) (0.11.2)\n",
      "Requirement already satisfied: jupyter in c:\\users\\sir bolu\\anaconda3\\lib\\site-packages (from datasist) (1.0.0)\n",
      "Requirement already satisfied: nltk in c:\\users\\sir bolu\\anaconda3\\lib\\site-packages (from datasist) (3.7)\n",
      "Requirement already satisfied: Joblib in c:\\users\\sir bolu\\anaconda3\\lib\\site-packages (from datasist) (1.1.0)\n",
      "Requirement already satisfied: numpy in c:\\users\\sir bolu\\anaconda3\\lib\\site-packages (from datasist) (1.21.5)\n",
      "Requirement already satisfied: matplotlib in c:\\users\\sir bolu\\anaconda3\\lib\\site-packages (from datasist) (3.5.1)\n",
      "Requirement already satisfied: scikit-learn in c:\\users\\sir bolu\\anaconda3\\lib\\site-packages (from datasist) (1.0.2)\n",
      "Requirement already satisfied: qtconsole in c:\\users\\sir bolu\\anaconda3\\lib\\site-packages (from jupyter->datasist) (5.3.0)\n",
      "Requirement already satisfied: ipywidgets in c:\\users\\sir bolu\\anaconda3\\lib\\site-packages (from jupyter->datasist) (7.6.5)\n",
      "Requirement already satisfied: nbconvert in c:\\users\\sir bolu\\anaconda3\\lib\\site-packages (from jupyter->datasist) (6.4.4)\n",
      "Requirement already satisfied: ipykernel in c:\\users\\sir bolu\\anaconda3\\lib\\site-packages (from jupyter->datasist) (6.9.1)\n",
      "Requirement already satisfied: jupyter-console in c:\\users\\sir bolu\\anaconda3\\lib\\site-packages (from jupyter->datasist) (6.4.0)\n",
      "Requirement already satisfied: notebook in c:\\users\\sir bolu\\anaconda3\\lib\\site-packages (from jupyter->datasist) (6.4.8)\n",
      "Requirement already satisfied: ipython>=7.23.1 in c:\\users\\sir bolu\\anaconda3\\lib\\site-packages (from ipykernel->jupyter->datasist) (8.2.0)\n",
      "Requirement already satisfied: traitlets<6.0,>=5.1.0 in c:\\users\\sir bolu\\anaconda3\\lib\\site-packages (from ipykernel->jupyter->datasist) (5.1.1)\n",
      "Requirement already satisfied: debugpy<2.0,>=1.0.0 in c:\\users\\sir bolu\\anaconda3\\lib\\site-packages (from ipykernel->jupyter->datasist) (1.5.1)\n",
      "Requirement already satisfied: matplotlib-inline<0.2.0,>=0.1.0 in c:\\users\\sir bolu\\anaconda3\\lib\\site-packages (from ipykernel->jupyter->datasist) (0.1.2)\n",
      "Requirement already satisfied: jupyter-client<8.0 in c:\\users\\sir bolu\\anaconda3\\lib\\site-packages (from ipykernel->jupyter->datasist) (6.1.12)\n",
      "Requirement already satisfied: tornado<7.0,>=4.2 in c:\\users\\sir bolu\\anaconda3\\lib\\site-packages (from ipykernel->jupyter->datasist) (6.1)\n",
      "Requirement already satisfied: nest-asyncio in c:\\users\\sir bolu\\anaconda3\\lib\\site-packages (from ipykernel->jupyter->datasist) (1.5.5)\n",
      "Requirement already satisfied: jedi>=0.16 in c:\\users\\sir bolu\\anaconda3\\lib\\site-packages (from ipython>=7.23.1->ipykernel->jupyter->datasist) (0.18.1)\n",
      "Requirement already satisfied: prompt-toolkit!=3.0.0,!=3.0.1,<3.1.0,>=2.0.0 in c:\\users\\sir bolu\\anaconda3\\lib\\site-packages (from ipython>=7.23.1->ipykernel->jupyter->datasist) (3.0.20)\n",
      "Requirement already satisfied: backcall in c:\\users\\sir bolu\\anaconda3\\lib\\site-packages (from ipython>=7.23.1->ipykernel->jupyter->datasist) (0.2.0)\n",
      "Requirement already satisfied: pygments>=2.4.0 in c:\\users\\sir bolu\\anaconda3\\lib\\site-packages (from ipython>=7.23.1->ipykernel->jupyter->datasist) (2.11.2)\n",
      "Requirement already satisfied: colorama in c:\\users\\sir bolu\\anaconda3\\lib\\site-packages (from ipython>=7.23.1->ipykernel->jupyter->datasist) (0.4.4)\n",
      "Requirement already satisfied: pickleshare in c:\\users\\sir bolu\\anaconda3\\lib\\site-packages (from ipython>=7.23.1->ipykernel->jupyter->datasist) (0.7.5)\n",
      "Requirement already satisfied: decorator in c:\\users\\sir bolu\\anaconda3\\lib\\site-packages (from ipython>=7.23.1->ipykernel->jupyter->datasist) (5.1.1)\n",
      "Requirement already satisfied: stack-data in c:\\users\\sir bolu\\anaconda3\\lib\\site-packages (from ipython>=7.23.1->ipykernel->jupyter->datasist) (0.2.0)\n",
      "Requirement already satisfied: setuptools>=18.5 in c:\\users\\sir bolu\\anaconda3\\lib\\site-packages (from ipython>=7.23.1->ipykernel->jupyter->datasist) (61.2.0)\n",
      "Requirement already satisfied: parso<0.9.0,>=0.8.0 in c:\\users\\sir bolu\\anaconda3\\lib\\site-packages (from jedi>=0.16->ipython>=7.23.1->ipykernel->jupyter->datasist) (0.8.3)\n",
      "Requirement already satisfied: python-dateutil>=2.1 in c:\\users\\sir bolu\\anaconda3\\lib\\site-packages (from jupyter-client<8.0->ipykernel->jupyter->datasist) (2.8.2)\n",
      "Requirement already satisfied: pyzmq>=13 in c:\\users\\sir bolu\\anaconda3\\lib\\site-packages (from jupyter-client<8.0->ipykernel->jupyter->datasist) (22.3.0)\n",
      "Requirement already satisfied: jupyter-core>=4.6.0 in c:\\users\\sir bolu\\anaconda3\\lib\\site-packages (from jupyter-client<8.0->ipykernel->jupyter->datasist) (4.9.2)\n",
      "Requirement already satisfied: pywin32>=1.0 in c:\\users\\sir bolu\\anaconda3\\lib\\site-packages (from jupyter-core>=4.6.0->jupyter-client<8.0->ipykernel->jupyter->datasist) (302)\n",
      "Requirement already satisfied: wcwidth in c:\\users\\sir bolu\\anaconda3\\lib\\site-packages (from prompt-toolkit!=3.0.0,!=3.0.1,<3.1.0,>=2.0.0->ipython>=7.23.1->ipykernel->jupyter->datasist) (0.2.5)\n",
      "Requirement already satisfied: six>=1.5 in c:\\users\\sir bolu\\anaconda3\\lib\\site-packages (from python-dateutil>=2.1->jupyter-client<8.0->ipykernel->jupyter->datasist) (1.16.0)\n",
      "Requirement already satisfied: widgetsnbextension~=3.5.0 in c:\\users\\sir bolu\\anaconda3\\lib\\site-packages (from ipywidgets->jupyter->datasist) (3.5.2)\n",
      "Requirement already satisfied: nbformat>=4.2.0 in c:\\users\\sir bolu\\anaconda3\\lib\\site-packages (from ipywidgets->jupyter->datasist) (5.3.0)\n",
      "Requirement already satisfied: ipython-genutils~=0.2.0 in c:\\users\\sir bolu\\anaconda3\\lib\\site-packages (from ipywidgets->jupyter->datasist) (0.2.0)\n",
      "Requirement already satisfied: jupyterlab-widgets>=1.0.0 in c:\\users\\sir bolu\\anaconda3\\lib\\site-packages (from ipywidgets->jupyter->datasist) (1.0.0)\n",
      "Requirement already satisfied: fastjsonschema in c:\\users\\sir bolu\\anaconda3\\lib\\site-packages (from nbformat>=4.2.0->ipywidgets->jupyter->datasist) (2.15.1)\n",
      "Requirement already satisfied: jsonschema>=2.6 in c:\\users\\sir bolu\\anaconda3\\lib\\site-packages (from nbformat>=4.2.0->ipywidgets->jupyter->datasist) (4.4.0)\n",
      "Requirement already satisfied: attrs>=17.4.0 in c:\\users\\sir bolu\\anaconda3\\lib\\site-packages (from jsonschema>=2.6->nbformat>=4.2.0->ipywidgets->jupyter->datasist) (21.4.0)\n",
      "Requirement already satisfied: pyrsistent!=0.17.0,!=0.17.1,!=0.17.2,>=0.14.0 in c:\\users\\sir bolu\\anaconda3\\lib\\site-packages (from jsonschema>=2.6->nbformat>=4.2.0->ipywidgets->jupyter->datasist) (0.18.0)\n",
      "Requirement already satisfied: argon2-cffi in c:\\users\\sir bolu\\anaconda3\\lib\\site-packages (from notebook->jupyter->datasist) (21.3.0)\n",
      "Requirement already satisfied: terminado>=0.8.3 in c:\\users\\sir bolu\\anaconda3\\lib\\site-packages (from notebook->jupyter->datasist) (0.13.1)\n",
      "Requirement already satisfied: jinja2 in c:\\users\\sir bolu\\anaconda3\\lib\\site-packages (from notebook->jupyter->datasist) (2.11.3)\n",
      "Requirement already satisfied: prometheus-client in c:\\users\\sir bolu\\anaconda3\\lib\\site-packages (from notebook->jupyter->datasist) (0.13.1)\n",
      "Requirement already satisfied: Send2Trash>=1.8.0 in c:\\users\\sir bolu\\anaconda3\\lib\\site-packages (from notebook->jupyter->datasist) (1.8.0)\n",
      "Requirement already satisfied: pywinpty>=1.1.0 in c:\\users\\sir bolu\\anaconda3\\lib\\site-packages (from terminado>=0.8.3->notebook->jupyter->datasist) (2.0.2)\n",
      "Requirement already satisfied: argon2-cffi-bindings in c:\\users\\sir bolu\\anaconda3\\lib\\site-packages (from argon2-cffi->notebook->jupyter->datasist) (21.2.0)\n",
      "Requirement already satisfied: cffi>=1.0.1 in c:\\users\\sir bolu\\anaconda3\\lib\\site-packages (from argon2-cffi-bindings->argon2-cffi->notebook->jupyter->datasist) (1.15.0)\n",
      "Requirement already satisfied: pycparser in c:\\users\\sir bolu\\anaconda3\\lib\\site-packages (from cffi>=1.0.1->argon2-cffi-bindings->argon2-cffi->notebook->jupyter->datasist) (2.21)\n",
      "Requirement already satisfied: MarkupSafe>=0.23 in c:\\users\\sir bolu\\anaconda3\\lib\\site-packages (from jinja2->notebook->jupyter->datasist) (2.0.1)\n",
      "Requirement already satisfied: fonttools>=4.22.0 in c:\\users\\sir bolu\\anaconda3\\lib\\site-packages (from matplotlib->datasist) (4.25.0)\n",
      "Requirement already satisfied: packaging>=20.0 in c:\\users\\sir bolu\\anaconda3\\lib\\site-packages (from matplotlib->datasist) (21.3)\n",
      "Requirement already satisfied: pillow>=6.2.0 in c:\\users\\sir bolu\\anaconda3\\lib\\site-packages (from matplotlib->datasist) (9.0.1)\n",
      "Requirement already satisfied: kiwisolver>=1.0.1 in c:\\users\\sir bolu\\anaconda3\\lib\\site-packages (from matplotlib->datasist) (1.3.2)\n",
      "Requirement already satisfied: cycler>=0.10 in c:\\users\\sir bolu\\anaconda3\\lib\\site-packages (from matplotlib->datasist) (0.11.0)\n",
      "Requirement already satisfied: pyparsing>=2.2.1 in c:\\users\\sir bolu\\anaconda3\\lib\\site-packages (from matplotlib->datasist) (3.0.4)\n",
      "Requirement already satisfied: nbclient<0.6.0,>=0.5.0 in c:\\users\\sir bolu\\anaconda3\\lib\\site-packages (from nbconvert->jupyter->datasist) (0.5.13)\n",
      "Requirement already satisfied: pandocfilters>=1.4.1 in c:\\users\\sir bolu\\anaconda3\\lib\\site-packages (from nbconvert->jupyter->datasist) (1.5.0)\n",
      "Requirement already satisfied: jupyterlab-pygments in c:\\users\\sir bolu\\anaconda3\\lib\\site-packages (from nbconvert->jupyter->datasist) (0.1.2)\n",
      "Requirement already satisfied: testpath in c:\\users\\sir bolu\\anaconda3\\lib\\site-packages (from nbconvert->jupyter->datasist) (0.5.0)\n",
      "Requirement already satisfied: defusedxml in c:\\users\\sir bolu\\anaconda3\\lib\\site-packages (from nbconvert->jupyter->datasist) (0.7.1)\n",
      "Requirement already satisfied: mistune<2,>=0.8.1 in c:\\users\\sir bolu\\anaconda3\\lib\\site-packages (from nbconvert->jupyter->datasist) (0.8.4)\n",
      "Requirement already satisfied: beautifulsoup4 in c:\\users\\sir bolu\\anaconda3\\lib\\site-packages (from nbconvert->jupyter->datasist) (4.11.1)\n",
      "Requirement already satisfied: bleach in c:\\users\\sir bolu\\anaconda3\\lib\\site-packages (from nbconvert->jupyter->datasist) (4.1.0)\n",
      "Requirement already satisfied: entrypoints>=0.2.2 in c:\\users\\sir bolu\\anaconda3\\lib\\site-packages (from nbconvert->jupyter->datasist) (0.4)\n",
      "Requirement already satisfied: soupsieve>1.2 in c:\\users\\sir bolu\\anaconda3\\lib\\site-packages (from beautifulsoup4->nbconvert->jupyter->datasist) (2.3.1)\n",
      "Requirement already satisfied: webencodings in c:\\users\\sir bolu\\anaconda3\\lib\\site-packages (from bleach->nbconvert->jupyter->datasist) (0.5.1)\n",
      "Requirement already satisfied: tqdm in c:\\users\\sir bolu\\anaconda3\\lib\\site-packages (from nltk->datasist) (4.64.0)\n",
      "Requirement already satisfied: click in c:\\users\\sir bolu\\anaconda3\\lib\\site-packages (from nltk->datasist) (8.0.4)\n",
      "Requirement already satisfied: regex>=2021.8.3 in c:\\users\\sir bolu\\anaconda3\\lib\\site-packages (from nltk->datasist) (2022.3.15)\n",
      "Requirement already satisfied: pytz>=2020.1 in c:\\users\\sir bolu\\anaconda3\\lib\\site-packages (from pandas->datasist) (2021.3)\n",
      "Requirement already satisfied: qtpy>=2.0.1 in c:\\users\\sir bolu\\anaconda3\\lib\\site-packages (from qtconsole->jupyter->datasist) (2.0.1)\n",
      "Requirement already satisfied: scipy>=1.1.0 in c:\\users\\sir bolu\\anaconda3\\lib\\site-packages (from scikit-learn->datasist) (1.7.3)\n",
      "Requirement already satisfied: threadpoolctl>=2.0.0 in c:\\users\\sir bolu\\anaconda3\\lib\\site-packages (from scikit-learn->datasist) (2.2.0)\n",
      "Requirement already satisfied: pure-eval in c:\\users\\sir bolu\\anaconda3\\lib\\site-packages (from stack-data->ipython>=7.23.1->ipykernel->jupyter->datasist) (0.2.2)\n",
      "Requirement already satisfied: executing in c:\\users\\sir bolu\\anaconda3\\lib\\site-packages (from stack-data->ipython>=7.23.1->ipykernel->jupyter->datasist) (0.8.3)\n",
      "Requirement already satisfied: asttokens in c:\\users\\sir bolu\\anaconda3\\lib\\site-packages (from stack-data->ipython>=7.23.1->ipykernel->jupyter->datasist) (2.0.5)\n"
     ]
    }
   ],
   "source": [
    "#Credit goes to Rising Odegua\n",
    "\n",
    "!pip install datasist"
   ]
  },
  {
   "cell_type": "code",
   "execution_count": 10,
   "metadata": {},
   "outputs": [],
   "source": [
    "import datasist as ds"
   ]
  },
  {
   "cell_type": "code",
   "execution_count": 11,
   "metadata": {},
   "outputs": [
    {
     "name": "stdout",
     "output_type": "stream",
     "text": [
      "First five data points\n"
     ]
    },
    {
     "data": {
      "text/html": [
       "<div>\n",
       "<style scoped>\n",
       "    .dataframe tbody tr th:only-of-type {\n",
       "        vertical-align: middle;\n",
       "    }\n",
       "\n",
       "    .dataframe tbody tr th {\n",
       "        vertical-align: top;\n",
       "    }\n",
       "\n",
       "    .dataframe thead th {\n",
       "        text-align: right;\n",
       "    }\n",
       "</style>\n",
       "<table border=\"1\" class=\"dataframe\">\n",
       "  <thead>\n",
       "    <tr style=\"text-align: right;\">\n",
       "      <th></th>\n",
       "      <th>id</th>\n",
       "      <th>gender</th>\n",
       "      <th>age</th>\n",
       "      <th>hypertension</th>\n",
       "      <th>heart_disease</th>\n",
       "      <th>ever_married</th>\n",
       "      <th>work_type</th>\n",
       "      <th>Residence_type</th>\n",
       "      <th>avg_glucose_level</th>\n",
       "      <th>bmi</th>\n",
       "      <th>smoking_status</th>\n",
       "      <th>stroke</th>\n",
       "    </tr>\n",
       "  </thead>\n",
       "  <tbody>\n",
       "    <tr>\n",
       "      <th>0</th>\n",
       "      <td>9046</td>\n",
       "      <td>Male</td>\n",
       "      <td>67</td>\n",
       "      <td>0</td>\n",
       "      <td>1</td>\n",
       "      <td>Yes</td>\n",
       "      <td>Private</td>\n",
       "      <td>Urban</td>\n",
       "      <td>228.69</td>\n",
       "      <td>36.6</td>\n",
       "      <td>formerly smoked</td>\n",
       "      <td>1</td>\n",
       "    </tr>\n",
       "    <tr>\n",
       "      <th>1</th>\n",
       "      <td>51676</td>\n",
       "      <td>Female</td>\n",
       "      <td>61</td>\n",
       "      <td>0</td>\n",
       "      <td>0</td>\n",
       "      <td>Yes</td>\n",
       "      <td>Self-employed</td>\n",
       "      <td>Rural</td>\n",
       "      <td>202.21</td>\n",
       "      <td></td>\n",
       "      <td>never smoked</td>\n",
       "      <td>1</td>\n",
       "    </tr>\n",
       "    <tr>\n",
       "      <th>2</th>\n",
       "      <td>31112</td>\n",
       "      <td>Male</td>\n",
       "      <td>80</td>\n",
       "      <td>0</td>\n",
       "      <td>1</td>\n",
       "      <td>Yes</td>\n",
       "      <td>Private</td>\n",
       "      <td>Rural</td>\n",
       "      <td>105.92</td>\n",
       "      <td>32.5</td>\n",
       "      <td>never smoked</td>\n",
       "      <td>1</td>\n",
       "    </tr>\n",
       "    <tr>\n",
       "      <th>3</th>\n",
       "      <td>60182</td>\n",
       "      <td>Female</td>\n",
       "      <td>49</td>\n",
       "      <td>0</td>\n",
       "      <td>0</td>\n",
       "      <td>Yes</td>\n",
       "      <td>Private</td>\n",
       "      <td>Urban</td>\n",
       "      <td>171.23</td>\n",
       "      <td>34.4</td>\n",
       "      <td>smokes</td>\n",
       "      <td>1</td>\n",
       "    </tr>\n",
       "    <tr>\n",
       "      <th>4</th>\n",
       "      <td>1665</td>\n",
       "      <td>Female</td>\n",
       "      <td>79</td>\n",
       "      <td>1</td>\n",
       "      <td>0</td>\n",
       "      <td>Yes</td>\n",
       "      <td>Self-employed</td>\n",
       "      <td>Rural</td>\n",
       "      <td>174.12</td>\n",
       "      <td>24</td>\n",
       "      <td>never smoked</td>\n",
       "      <td>1</td>\n",
       "    </tr>\n",
       "  </tbody>\n",
       "</table>\n",
       "</div>"
      ],
      "text/plain": [
       "      id  gender age hypertension heart_disease ever_married      work_type  \\\n",
       "0   9046    Male  67            0             1          Yes        Private   \n",
       "1  51676  Female  61            0             0          Yes  Self-employed   \n",
       "2  31112    Male  80            0             1          Yes        Private   \n",
       "3  60182  Female  49            0             0          Yes        Private   \n",
       "4   1665  Female  79            1             0          Yes  Self-employed   \n",
       "\n",
       "  Residence_type avg_glucose_level   bmi   smoking_status stroke  \n",
       "0          Urban            228.69  36.6  formerly smoked      1  \n",
       "1          Rural            202.21           never smoked      1  \n",
       "2          Rural            105.92  32.5     never smoked      1  \n",
       "3          Urban            171.23  34.4           smokes      1  \n",
       "4          Rural            174.12    24     never smoked      1  "
      ]
     },
     "metadata": {},
     "output_type": "display_data"
    },
    {
     "name": "stdout",
     "output_type": "stream",
     "text": [
      "\n",
      "\n",
      "Random five data points\n"
     ]
    },
    {
     "data": {
      "text/html": [
       "<div>\n",
       "<style scoped>\n",
       "    .dataframe tbody tr th:only-of-type {\n",
       "        vertical-align: middle;\n",
       "    }\n",
       "\n",
       "    .dataframe tbody tr th {\n",
       "        vertical-align: top;\n",
       "    }\n",
       "\n",
       "    .dataframe thead th {\n",
       "        text-align: right;\n",
       "    }\n",
       "</style>\n",
       "<table border=\"1\" class=\"dataframe\">\n",
       "  <thead>\n",
       "    <tr style=\"text-align: right;\">\n",
       "      <th></th>\n",
       "      <th>id</th>\n",
       "      <th>gender</th>\n",
       "      <th>age</th>\n",
       "      <th>hypertension</th>\n",
       "      <th>heart_disease</th>\n",
       "      <th>ever_married</th>\n",
       "      <th>work_type</th>\n",
       "      <th>Residence_type</th>\n",
       "      <th>avg_glucose_level</th>\n",
       "      <th>bmi</th>\n",
       "      <th>smoking_status</th>\n",
       "      <th>stroke</th>\n",
       "    </tr>\n",
       "  </thead>\n",
       "  <tbody>\n",
       "    <tr>\n",
       "      <th>64</th>\n",
       "      <td>7356</td>\n",
       "      <td>Male</td>\n",
       "      <td>75</td>\n",
       "      <td>0</td>\n",
       "      <td>0</td>\n",
       "      <td>Yes</td>\n",
       "      <td>Private</td>\n",
       "      <td>Urban</td>\n",
       "      <td>104.72</td>\n",
       "      <td></td>\n",
       "      <td>Unknown</td>\n",
       "      <td>1</td>\n",
       "    </tr>\n",
       "    <tr>\n",
       "      <th>39</th>\n",
       "      <td>62602</td>\n",
       "      <td>Female</td>\n",
       "      <td>49</td>\n",
       "      <td>0</td>\n",
       "      <td>0</td>\n",
       "      <td>Yes</td>\n",
       "      <td>Private</td>\n",
       "      <td>Urban</td>\n",
       "      <td>60.91</td>\n",
       "      <td>29.9</td>\n",
       "      <td>never smoked</td>\n",
       "      <td>1</td>\n",
       "    </tr>\n",
       "    <tr>\n",
       "      <th>660</th>\n",
       "      <td>61013</td>\n",
       "      <td>Male</td>\n",
       "      <td>52</td>\n",
       "      <td>0</td>\n",
       "      <td>0</td>\n",
       "      <td>No</td>\n",
       "      <td>Private</td>\n",
       "      <td>Rural</td>\n",
       "      <td>69.37</td>\n",
       "      <td>36.2</td>\n",
       "      <td>Unknown</td>\n",
       "      <td>0</td>\n",
       "    </tr>\n",
       "    <tr>\n",
       "      <th>1459</th>\n",
       "      <td>11726</td>\n",
       "      <td>Female</td>\n",
       "      <td>49</td>\n",
       "      <td>0</td>\n",
       "      <td>0</td>\n",
       "      <td>Yes</td>\n",
       "      <td>Govt_job</td>\n",
       "      <td>Rural</td>\n",
       "      <td>83.84</td>\n",
       "      <td>19.3</td>\n",
       "      <td>formerly smoked</td>\n",
       "      <td>0</td>\n",
       "    </tr>\n",
       "    <tr>\n",
       "      <th>2937</th>\n",
       "      <td>53121</td>\n",
       "      <td>Male</td>\n",
       "      <td>44</td>\n",
       "      <td>0</td>\n",
       "      <td>0</td>\n",
       "      <td>Yes</td>\n",
       "      <td>Private</td>\n",
       "      <td>Urban</td>\n",
       "      <td>63.6</td>\n",
       "      <td>37.3</td>\n",
       "      <td>never smoked</td>\n",
       "      <td>0</td>\n",
       "    </tr>\n",
       "  </tbody>\n",
       "</table>\n",
       "</div>"
      ],
      "text/plain": [
       "         id  gender age hypertension heart_disease ever_married work_type  \\\n",
       "64     7356    Male  75            0             0          Yes   Private   \n",
       "39    62602  Female  49            0             0          Yes   Private   \n",
       "660   61013    Male  52            0             0           No   Private   \n",
       "1459  11726  Female  49            0             0          Yes  Govt_job   \n",
       "2937  53121    Male  44            0             0          Yes   Private   \n",
       "\n",
       "     Residence_type avg_glucose_level   bmi   smoking_status stroke  \n",
       "64            Urban            104.72                Unknown      1  \n",
       "39            Urban             60.91  29.9     never smoked      1  \n",
       "660           Rural             69.37  36.2          Unknown      0  \n",
       "1459          Rural             83.84  19.3  formerly smoked      0  \n",
       "2937          Urban              63.6  37.3     never smoked      0  "
      ]
     },
     "metadata": {},
     "output_type": "display_data"
    },
    {
     "name": "stdout",
     "output_type": "stream",
     "text": [
      "\n",
      "\n",
      "Last five data points\n"
     ]
    },
    {
     "data": {
      "text/html": [
       "<div>\n",
       "<style scoped>\n",
       "    .dataframe tbody tr th:only-of-type {\n",
       "        vertical-align: middle;\n",
       "    }\n",
       "\n",
       "    .dataframe tbody tr th {\n",
       "        vertical-align: top;\n",
       "    }\n",
       "\n",
       "    .dataframe thead th {\n",
       "        text-align: right;\n",
       "    }\n",
       "</style>\n",
       "<table border=\"1\" class=\"dataframe\">\n",
       "  <thead>\n",
       "    <tr style=\"text-align: right;\">\n",
       "      <th></th>\n",
       "      <th>id</th>\n",
       "      <th>gender</th>\n",
       "      <th>age</th>\n",
       "      <th>hypertension</th>\n",
       "      <th>heart_disease</th>\n",
       "      <th>ever_married</th>\n",
       "      <th>work_type</th>\n",
       "      <th>Residence_type</th>\n",
       "      <th>avg_glucose_level</th>\n",
       "      <th>bmi</th>\n",
       "      <th>smoking_status</th>\n",
       "      <th>stroke</th>\n",
       "    </tr>\n",
       "  </thead>\n",
       "  <tbody>\n",
       "    <tr>\n",
       "      <th>5105</th>\n",
       "      <td>18234</td>\n",
       "      <td>Female</td>\n",
       "      <td>80</td>\n",
       "      <td>1</td>\n",
       "      <td>0</td>\n",
       "      <td>Yes</td>\n",
       "      <td>Private</td>\n",
       "      <td>Urban</td>\n",
       "      <td>83.75</td>\n",
       "      <td></td>\n",
       "      <td>never smoked</td>\n",
       "      <td>0</td>\n",
       "    </tr>\n",
       "    <tr>\n",
       "      <th>5106</th>\n",
       "      <td>44873</td>\n",
       "      <td>Female</td>\n",
       "      <td>81</td>\n",
       "      <td>0</td>\n",
       "      <td>0</td>\n",
       "      <td>Yes</td>\n",
       "      <td>Self-employed</td>\n",
       "      <td>Urban</td>\n",
       "      <td>125.2</td>\n",
       "      <td>40</td>\n",
       "      <td>never smoked</td>\n",
       "      <td>0</td>\n",
       "    </tr>\n",
       "    <tr>\n",
       "      <th>5107</th>\n",
       "      <td>19723</td>\n",
       "      <td>Female</td>\n",
       "      <td>35</td>\n",
       "      <td>0</td>\n",
       "      <td>0</td>\n",
       "      <td>Yes</td>\n",
       "      <td>Self-employed</td>\n",
       "      <td>Rural</td>\n",
       "      <td>82.99</td>\n",
       "      <td>30.6</td>\n",
       "      <td>never smoked</td>\n",
       "      <td>0</td>\n",
       "    </tr>\n",
       "    <tr>\n",
       "      <th>5108</th>\n",
       "      <td>37544</td>\n",
       "      <td>Male</td>\n",
       "      <td>51</td>\n",
       "      <td>0</td>\n",
       "      <td>0</td>\n",
       "      <td>Yes</td>\n",
       "      <td>Private</td>\n",
       "      <td>Rural</td>\n",
       "      <td>166.29</td>\n",
       "      <td>25.6</td>\n",
       "      <td>formerly smoked</td>\n",
       "      <td>0</td>\n",
       "    </tr>\n",
       "    <tr>\n",
       "      <th>5109</th>\n",
       "      <td>44679</td>\n",
       "      <td>Female</td>\n",
       "      <td>44</td>\n",
       "      <td>0</td>\n",
       "      <td>0</td>\n",
       "      <td>Yes</td>\n",
       "      <td>Govt_job</td>\n",
       "      <td>Urban</td>\n",
       "      <td>85.28</td>\n",
       "      <td>26.2</td>\n",
       "      <td>Unknown</td>\n",
       "      <td>0</td>\n",
       "    </tr>\n",
       "  </tbody>\n",
       "</table>\n",
       "</div>"
      ],
      "text/plain": [
       "         id  gender age hypertension heart_disease ever_married  \\\n",
       "5105  18234  Female  80            1             0          Yes   \n",
       "5106  44873  Female  81            0             0          Yes   \n",
       "5107  19723  Female  35            0             0          Yes   \n",
       "5108  37544    Male  51            0             0          Yes   \n",
       "5109  44679  Female  44            0             0          Yes   \n",
       "\n",
       "          work_type Residence_type avg_glucose_level   bmi   smoking_status  \\\n",
       "5105        Private          Urban             83.75           never smoked   \n",
       "5106  Self-employed          Urban             125.2    40     never smoked   \n",
       "5107  Self-employed          Rural             82.99  30.6     never smoked   \n",
       "5108        Private          Rural            166.29  25.6  formerly smoked   \n",
       "5109       Govt_job          Urban             85.28  26.2          Unknown   \n",
       "\n",
       "     stroke  \n",
       "5105      0  \n",
       "5106      0  \n",
       "5107      0  \n",
       "5108      0  \n",
       "5109      0  "
      ]
     },
     "metadata": {},
     "output_type": "display_data"
    },
    {
     "name": "stdout",
     "output_type": "stream",
     "text": [
      "\n",
      "\n",
      "Shape of  data set: (5110, 12)\n",
      "\n",
      "\n",
      "Size of  data set: 61320\n",
      "\n",
      "\n",
      "Data Types\n",
      "Note: All Non-numerical features are identified as objects in pandas\n"
     ]
    },
    {
     "data": {
      "text/html": [
       "<div>\n",
       "<style scoped>\n",
       "    .dataframe tbody tr th:only-of-type {\n",
       "        vertical-align: middle;\n",
       "    }\n",
       "\n",
       "    .dataframe tbody tr th {\n",
       "        vertical-align: top;\n",
       "    }\n",
       "\n",
       "    .dataframe thead th {\n",
       "        text-align: right;\n",
       "    }\n",
       "</style>\n",
       "<table border=\"1\" class=\"dataframe\">\n",
       "  <thead>\n",
       "    <tr style=\"text-align: right;\">\n",
       "      <th></th>\n",
       "      <th>Data Type</th>\n",
       "    </tr>\n",
       "  </thead>\n",
       "  <tbody>\n",
       "    <tr>\n",
       "      <th>id</th>\n",
       "      <td>object</td>\n",
       "    </tr>\n",
       "    <tr>\n",
       "      <th>gender</th>\n",
       "      <td>object</td>\n",
       "    </tr>\n",
       "    <tr>\n",
       "      <th>age</th>\n",
       "      <td>object</td>\n",
       "    </tr>\n",
       "    <tr>\n",
       "      <th>hypertension</th>\n",
       "      <td>object</td>\n",
       "    </tr>\n",
       "    <tr>\n",
       "      <th>heart_disease</th>\n",
       "      <td>object</td>\n",
       "    </tr>\n",
       "    <tr>\n",
       "      <th>ever_married</th>\n",
       "      <td>object</td>\n",
       "    </tr>\n",
       "    <tr>\n",
       "      <th>work_type</th>\n",
       "      <td>object</td>\n",
       "    </tr>\n",
       "    <tr>\n",
       "      <th>Residence_type</th>\n",
       "      <td>object</td>\n",
       "    </tr>\n",
       "    <tr>\n",
       "      <th>avg_glucose_level</th>\n",
       "      <td>object</td>\n",
       "    </tr>\n",
       "    <tr>\n",
       "      <th>bmi</th>\n",
       "      <td>object</td>\n",
       "    </tr>\n",
       "    <tr>\n",
       "      <th>smoking_status</th>\n",
       "      <td>object</td>\n",
       "    </tr>\n",
       "    <tr>\n",
       "      <th>stroke</th>\n",
       "      <td>object</td>\n",
       "    </tr>\n",
       "  </tbody>\n",
       "</table>\n",
       "</div>"
      ],
      "text/plain": [
       "                  Data Type\n",
       "id                   object\n",
       "gender               object\n",
       "age                  object\n",
       "hypertension         object\n",
       "heart_disease        object\n",
       "ever_married         object\n",
       "work_type            object\n",
       "Residence_type       object\n",
       "avg_glucose_level    object\n",
       "bmi                  object\n",
       "smoking_status       object\n",
       "stroke               object"
      ]
     },
     "metadata": {},
     "output_type": "display_data"
    },
    {
     "name": "stdout",
     "output_type": "stream",
     "text": [
      "\n",
      "\n",
      "Numerical Features in Data set\n",
      "[]\n",
      "\n",
      "\n",
      "Categorical Features in Data set\n"
     ]
    },
    {
     "data": {
      "text/plain": [
       "['id',\n",
       " 'gender',\n",
       " 'age',\n",
       " 'hypertension',\n",
       " 'heart_disease',\n",
       " 'ever_married',\n",
       " 'work_type',\n",
       " 'Residence_type',\n",
       " 'avg_glucose_level',\n",
       " 'bmi',\n",
       " 'smoking_status',\n",
       " 'stroke']"
      ]
     },
     "metadata": {},
     "output_type": "display_data"
    },
    {
     "name": "stdout",
     "output_type": "stream",
     "text": [
      "\n",
      "\n",
      "Statistical Description of Columns\n"
     ]
    },
    {
     "data": {
      "text/html": [
       "<div>\n",
       "<style scoped>\n",
       "    .dataframe tbody tr th:only-of-type {\n",
       "        vertical-align: middle;\n",
       "    }\n",
       "\n",
       "    .dataframe tbody tr th {\n",
       "        vertical-align: top;\n",
       "    }\n",
       "\n",
       "    .dataframe thead th {\n",
       "        text-align: right;\n",
       "    }\n",
       "</style>\n",
       "<table border=\"1\" class=\"dataframe\">\n",
       "  <thead>\n",
       "    <tr style=\"text-align: right;\">\n",
       "      <th></th>\n",
       "      <th>id</th>\n",
       "      <th>gender</th>\n",
       "      <th>age</th>\n",
       "      <th>hypertension</th>\n",
       "      <th>heart_disease</th>\n",
       "      <th>ever_married</th>\n",
       "      <th>work_type</th>\n",
       "      <th>Residence_type</th>\n",
       "      <th>avg_glucose_level</th>\n",
       "      <th>bmi</th>\n",
       "      <th>smoking_status</th>\n",
       "      <th>stroke</th>\n",
       "    </tr>\n",
       "  </thead>\n",
       "  <tbody>\n",
       "    <tr>\n",
       "      <th>count</th>\n",
       "      <td>5110</td>\n",
       "      <td>5110</td>\n",
       "      <td>5110</td>\n",
       "      <td>5110</td>\n",
       "      <td>5110</td>\n",
       "      <td>5110</td>\n",
       "      <td>5110</td>\n",
       "      <td>5110</td>\n",
       "      <td>5110</td>\n",
       "      <td>5110</td>\n",
       "      <td>5110</td>\n",
       "      <td>5110</td>\n",
       "    </tr>\n",
       "    <tr>\n",
       "      <th>unique</th>\n",
       "      <td>5110</td>\n",
       "      <td>3</td>\n",
       "      <td>104</td>\n",
       "      <td>2</td>\n",
       "      <td>2</td>\n",
       "      <td>2</td>\n",
       "      <td>5</td>\n",
       "      <td>2</td>\n",
       "      <td>3979</td>\n",
       "      <td>419</td>\n",
       "      <td>4</td>\n",
       "      <td>2</td>\n",
       "    </tr>\n",
       "    <tr>\n",
       "      <th>top</th>\n",
       "      <td>9046</td>\n",
       "      <td>Female</td>\n",
       "      <td>78</td>\n",
       "      <td>0</td>\n",
       "      <td>0</td>\n",
       "      <td>Yes</td>\n",
       "      <td>Private</td>\n",
       "      <td>Urban</td>\n",
       "      <td>93.88</td>\n",
       "      <td></td>\n",
       "      <td>never smoked</td>\n",
       "      <td>0</td>\n",
       "    </tr>\n",
       "    <tr>\n",
       "      <th>freq</th>\n",
       "      <td>1</td>\n",
       "      <td>2994</td>\n",
       "      <td>102</td>\n",
       "      <td>4612</td>\n",
       "      <td>4834</td>\n",
       "      <td>3353</td>\n",
       "      <td>2925</td>\n",
       "      <td>2596</td>\n",
       "      <td>6</td>\n",
       "      <td>201</td>\n",
       "      <td>1892</td>\n",
       "      <td>4861</td>\n",
       "    </tr>\n",
       "  </tbody>\n",
       "</table>\n",
       "</div>"
      ],
      "text/plain": [
       "          id  gender   age hypertension heart_disease ever_married work_type  \\\n",
       "count   5110    5110  5110         5110          5110         5110      5110   \n",
       "unique  5110       3   104            2             2            2         5   \n",
       "top     9046  Female    78            0             0          Yes   Private   \n",
       "freq       1    2994   102         4612          4834         3353      2925   \n",
       "\n",
       "       Residence_type avg_glucose_level   bmi smoking_status stroke  \n",
       "count            5110              5110  5110           5110   5110  \n",
       "unique              2              3979   419              4      2  \n",
       "top             Urban             93.88         never smoked      0  \n",
       "freq             2596                 6   201           1892   4861  "
      ]
     },
     "metadata": {},
     "output_type": "display_data"
    },
    {
     "name": "stdout",
     "output_type": "stream",
     "text": [
      "\n",
      "\n",
      "Description of Categorical Features\n"
     ]
    },
    {
     "data": {
      "text/html": [
       "<div>\n",
       "<style scoped>\n",
       "    .dataframe tbody tr th:only-of-type {\n",
       "        vertical-align: middle;\n",
       "    }\n",
       "\n",
       "    .dataframe tbody tr th {\n",
       "        vertical-align: top;\n",
       "    }\n",
       "\n",
       "    .dataframe thead th {\n",
       "        text-align: right;\n",
       "    }\n",
       "</style>\n",
       "<table border=\"1\" class=\"dataframe\">\n",
       "  <thead>\n",
       "    <tr style=\"text-align: right;\">\n",
       "      <th></th>\n",
       "      <th>count</th>\n",
       "      <th>unique</th>\n",
       "      <th>top</th>\n",
       "      <th>freq</th>\n",
       "    </tr>\n",
       "  </thead>\n",
       "  <tbody>\n",
       "    <tr>\n",
       "      <th>id</th>\n",
       "      <td>5110</td>\n",
       "      <td>5110</td>\n",
       "      <td>9046</td>\n",
       "      <td>1</td>\n",
       "    </tr>\n",
       "    <tr>\n",
       "      <th>gender</th>\n",
       "      <td>5110</td>\n",
       "      <td>3</td>\n",
       "      <td>Female</td>\n",
       "      <td>2994</td>\n",
       "    </tr>\n",
       "    <tr>\n",
       "      <th>age</th>\n",
       "      <td>5110</td>\n",
       "      <td>104</td>\n",
       "      <td>78</td>\n",
       "      <td>102</td>\n",
       "    </tr>\n",
       "    <tr>\n",
       "      <th>hypertension</th>\n",
       "      <td>5110</td>\n",
       "      <td>2</td>\n",
       "      <td>0</td>\n",
       "      <td>4612</td>\n",
       "    </tr>\n",
       "    <tr>\n",
       "      <th>heart_disease</th>\n",
       "      <td>5110</td>\n",
       "      <td>2</td>\n",
       "      <td>0</td>\n",
       "      <td>4834</td>\n",
       "    </tr>\n",
       "    <tr>\n",
       "      <th>ever_married</th>\n",
       "      <td>5110</td>\n",
       "      <td>2</td>\n",
       "      <td>Yes</td>\n",
       "      <td>3353</td>\n",
       "    </tr>\n",
       "    <tr>\n",
       "      <th>work_type</th>\n",
       "      <td>5110</td>\n",
       "      <td>5</td>\n",
       "      <td>Private</td>\n",
       "      <td>2925</td>\n",
       "    </tr>\n",
       "    <tr>\n",
       "      <th>Residence_type</th>\n",
       "      <td>5110</td>\n",
       "      <td>2</td>\n",
       "      <td>Urban</td>\n",
       "      <td>2596</td>\n",
       "    </tr>\n",
       "    <tr>\n",
       "      <th>avg_glucose_level</th>\n",
       "      <td>5110</td>\n",
       "      <td>3979</td>\n",
       "      <td>93.88</td>\n",
       "      <td>6</td>\n",
       "    </tr>\n",
       "    <tr>\n",
       "      <th>bmi</th>\n",
       "      <td>5110</td>\n",
       "      <td>419</td>\n",
       "      <td></td>\n",
       "      <td>201</td>\n",
       "    </tr>\n",
       "    <tr>\n",
       "      <th>smoking_status</th>\n",
       "      <td>5110</td>\n",
       "      <td>4</td>\n",
       "      <td>never smoked</td>\n",
       "      <td>1892</td>\n",
       "    </tr>\n",
       "    <tr>\n",
       "      <th>stroke</th>\n",
       "      <td>5110</td>\n",
       "      <td>2</td>\n",
       "      <td>0</td>\n",
       "      <td>4861</td>\n",
       "    </tr>\n",
       "  </tbody>\n",
       "</table>\n",
       "</div>"
      ],
      "text/plain": [
       "                  count unique           top  freq\n",
       "id                 5110   5110          9046     1\n",
       "gender             5110      3        Female  2994\n",
       "age                5110    104            78   102\n",
       "hypertension       5110      2             0  4612\n",
       "heart_disease      5110      2             0  4834\n",
       "ever_married       5110      2           Yes  3353\n",
       "work_type          5110      5       Private  2925\n",
       "Residence_type     5110      2         Urban  2596\n",
       "avg_glucose_level  5110   3979         93.88     6\n",
       "bmi                5110    419                 201\n",
       "smoking_status     5110      4  never smoked  1892\n",
       "stroke             5110      2             0  4861"
      ]
     },
     "metadata": {},
     "output_type": "display_data"
    },
    {
     "name": "stdout",
     "output_type": "stream",
     "text": [
      "\n",
      "\n",
      "Unique class Count of Categorical features\n"
     ]
    },
    {
     "data": {
      "text/html": [
       "<style type=\"text/css\">\n",
       "#T_2324a_row0_col1 {\n",
       "  width: 10em;\n",
       "  background: linear-gradient(90deg, #d65f5f 100.0%, transparent 100.0%);\n",
       "}\n",
       "#T_2324a_row1_col1, #T_2324a_row6_col1, #T_2324a_row10_col1 {\n",
       "  width: 10em;\n",
       "  background: linear-gradient(90deg, #d65f5f 0.1%, transparent 0.1%);\n",
       "}\n",
       "#T_2324a_row2_col1 {\n",
       "  width: 10em;\n",
       "  background: linear-gradient(90deg, #d65f5f 2.0%, transparent 2.0%);\n",
       "}\n",
       "#T_2324a_row3_col1, #T_2324a_row4_col1, #T_2324a_row5_col1, #T_2324a_row7_col1, #T_2324a_row11_col1 {\n",
       "  width: 10em;\n",
       "  background: linear-gradient(90deg, #d65f5f 0.0%, transparent 0.0%);\n",
       "}\n",
       "#T_2324a_row8_col1 {\n",
       "  width: 10em;\n",
       "  background: linear-gradient(90deg, #d65f5f 77.9%, transparent 77.9%);\n",
       "}\n",
       "#T_2324a_row9_col1 {\n",
       "  width: 10em;\n",
       "  background: linear-gradient(90deg, #d65f5f 8.2%, transparent 8.2%);\n",
       "}\n",
       "</style>\n",
       "<table id=\"T_2324a\">\n",
       "  <thead>\n",
       "    <tr>\n",
       "      <th class=\"blank level0\" >&nbsp;</th>\n",
       "      <th id=\"T_2324a_level0_col0\" class=\"col_heading level0 col0\" >Feature</th>\n",
       "      <th id=\"T_2324a_level0_col1\" class=\"col_heading level0 col1\" >Unique Count</th>\n",
       "    </tr>\n",
       "  </thead>\n",
       "  <tbody>\n",
       "    <tr>\n",
       "      <th id=\"T_2324a_level0_row0\" class=\"row_heading level0 row0\" >0</th>\n",
       "      <td id=\"T_2324a_row0_col0\" class=\"data row0 col0\" >id</td>\n",
       "      <td id=\"T_2324a_row0_col1\" class=\"data row0 col1\" >5110</td>\n",
       "    </tr>\n",
       "    <tr>\n",
       "      <th id=\"T_2324a_level0_row1\" class=\"row_heading level0 row1\" >1</th>\n",
       "      <td id=\"T_2324a_row1_col0\" class=\"data row1 col0\" >gender</td>\n",
       "      <td id=\"T_2324a_row1_col1\" class=\"data row1 col1\" >3</td>\n",
       "    </tr>\n",
       "    <tr>\n",
       "      <th id=\"T_2324a_level0_row2\" class=\"row_heading level0 row2\" >2</th>\n",
       "      <td id=\"T_2324a_row2_col0\" class=\"data row2 col0\" >age</td>\n",
       "      <td id=\"T_2324a_row2_col1\" class=\"data row2 col1\" >104</td>\n",
       "    </tr>\n",
       "    <tr>\n",
       "      <th id=\"T_2324a_level0_row3\" class=\"row_heading level0 row3\" >3</th>\n",
       "      <td id=\"T_2324a_row3_col0\" class=\"data row3 col0\" >hypertension</td>\n",
       "      <td id=\"T_2324a_row3_col1\" class=\"data row3 col1\" >2</td>\n",
       "    </tr>\n",
       "    <tr>\n",
       "      <th id=\"T_2324a_level0_row4\" class=\"row_heading level0 row4\" >4</th>\n",
       "      <td id=\"T_2324a_row4_col0\" class=\"data row4 col0\" >heart_disease</td>\n",
       "      <td id=\"T_2324a_row4_col1\" class=\"data row4 col1\" >2</td>\n",
       "    </tr>\n",
       "    <tr>\n",
       "      <th id=\"T_2324a_level0_row5\" class=\"row_heading level0 row5\" >5</th>\n",
       "      <td id=\"T_2324a_row5_col0\" class=\"data row5 col0\" >ever_married</td>\n",
       "      <td id=\"T_2324a_row5_col1\" class=\"data row5 col1\" >2</td>\n",
       "    </tr>\n",
       "    <tr>\n",
       "      <th id=\"T_2324a_level0_row6\" class=\"row_heading level0 row6\" >6</th>\n",
       "      <td id=\"T_2324a_row6_col0\" class=\"data row6 col0\" >work_type</td>\n",
       "      <td id=\"T_2324a_row6_col1\" class=\"data row6 col1\" >5</td>\n",
       "    </tr>\n",
       "    <tr>\n",
       "      <th id=\"T_2324a_level0_row7\" class=\"row_heading level0 row7\" >7</th>\n",
       "      <td id=\"T_2324a_row7_col0\" class=\"data row7 col0\" >Residence_type</td>\n",
       "      <td id=\"T_2324a_row7_col1\" class=\"data row7 col1\" >2</td>\n",
       "    </tr>\n",
       "    <tr>\n",
       "      <th id=\"T_2324a_level0_row8\" class=\"row_heading level0 row8\" >8</th>\n",
       "      <td id=\"T_2324a_row8_col0\" class=\"data row8 col0\" >avg_glucose_level</td>\n",
       "      <td id=\"T_2324a_row8_col1\" class=\"data row8 col1\" >3979</td>\n",
       "    </tr>\n",
       "    <tr>\n",
       "      <th id=\"T_2324a_level0_row9\" class=\"row_heading level0 row9\" >9</th>\n",
       "      <td id=\"T_2324a_row9_col0\" class=\"data row9 col0\" >bmi</td>\n",
       "      <td id=\"T_2324a_row9_col1\" class=\"data row9 col1\" >419</td>\n",
       "    </tr>\n",
       "    <tr>\n",
       "      <th id=\"T_2324a_level0_row10\" class=\"row_heading level0 row10\" >10</th>\n",
       "      <td id=\"T_2324a_row10_col0\" class=\"data row10 col0\" >smoking_status</td>\n",
       "      <td id=\"T_2324a_row10_col1\" class=\"data row10 col1\" >4</td>\n",
       "    </tr>\n",
       "    <tr>\n",
       "      <th id=\"T_2324a_level0_row11\" class=\"row_heading level0 row11\" >11</th>\n",
       "      <td id=\"T_2324a_row11_col0\" class=\"data row11 col0\" >stroke</td>\n",
       "      <td id=\"T_2324a_row11_col1\" class=\"data row11 col1\" >2</td>\n",
       "    </tr>\n",
       "  </tbody>\n",
       "</table>\n"
      ],
      "text/plain": [
       "<pandas.io.formats.style.Styler at 0x239dc72b3a0>"
      ]
     },
     "metadata": {},
     "output_type": "display_data"
    },
    {
     "name": "stdout",
     "output_type": "stream",
     "text": [
      "\n",
      "\n",
      "Missing Values in Data\n"
     ]
    },
    {
     "data": {
      "text/html": [
       "<div>\n",
       "<style scoped>\n",
       "    .dataframe tbody tr th:only-of-type {\n",
       "        vertical-align: middle;\n",
       "    }\n",
       "\n",
       "    .dataframe tbody tr th {\n",
       "        vertical-align: top;\n",
       "    }\n",
       "\n",
       "    .dataframe thead th {\n",
       "        text-align: right;\n",
       "    }\n",
       "</style>\n",
       "<table border=\"1\" class=\"dataframe\">\n",
       "  <thead>\n",
       "    <tr style=\"text-align: right;\">\n",
       "      <th></th>\n",
       "      <th>features</th>\n",
       "      <th>missing_counts</th>\n",
       "      <th>missing_percent</th>\n",
       "    </tr>\n",
       "  </thead>\n",
       "  <tbody>\n",
       "    <tr>\n",
       "      <th>0</th>\n",
       "      <td>id</td>\n",
       "      <td>0</td>\n",
       "      <td>0.0</td>\n",
       "    </tr>\n",
       "    <tr>\n",
       "      <th>1</th>\n",
       "      <td>gender</td>\n",
       "      <td>0</td>\n",
       "      <td>0.0</td>\n",
       "    </tr>\n",
       "    <tr>\n",
       "      <th>2</th>\n",
       "      <td>age</td>\n",
       "      <td>0</td>\n",
       "      <td>0.0</td>\n",
       "    </tr>\n",
       "    <tr>\n",
       "      <th>3</th>\n",
       "      <td>hypertension</td>\n",
       "      <td>0</td>\n",
       "      <td>0.0</td>\n",
       "    </tr>\n",
       "    <tr>\n",
       "      <th>4</th>\n",
       "      <td>heart_disease</td>\n",
       "      <td>0</td>\n",
       "      <td>0.0</td>\n",
       "    </tr>\n",
       "    <tr>\n",
       "      <th>5</th>\n",
       "      <td>ever_married</td>\n",
       "      <td>0</td>\n",
       "      <td>0.0</td>\n",
       "    </tr>\n",
       "    <tr>\n",
       "      <th>6</th>\n",
       "      <td>work_type</td>\n",
       "      <td>0</td>\n",
       "      <td>0.0</td>\n",
       "    </tr>\n",
       "    <tr>\n",
       "      <th>7</th>\n",
       "      <td>Residence_type</td>\n",
       "      <td>0</td>\n",
       "      <td>0.0</td>\n",
       "    </tr>\n",
       "    <tr>\n",
       "      <th>8</th>\n",
       "      <td>avg_glucose_level</td>\n",
       "      <td>0</td>\n",
       "      <td>0.0</td>\n",
       "    </tr>\n",
       "    <tr>\n",
       "      <th>9</th>\n",
       "      <td>bmi</td>\n",
       "      <td>0</td>\n",
       "      <td>0.0</td>\n",
       "    </tr>\n",
       "    <tr>\n",
       "      <th>10</th>\n",
       "      <td>smoking_status</td>\n",
       "      <td>0</td>\n",
       "      <td>0.0</td>\n",
       "    </tr>\n",
       "    <tr>\n",
       "      <th>11</th>\n",
       "      <td>stroke</td>\n",
       "      <td>0</td>\n",
       "      <td>0.0</td>\n",
       "    </tr>\n",
       "  </tbody>\n",
       "</table>\n",
       "</div>"
      ],
      "text/plain": [
       "             features  missing_counts  missing_percent\n",
       "0                  id               0              0.0\n",
       "1              gender               0              0.0\n",
       "2                 age               0              0.0\n",
       "3        hypertension               0              0.0\n",
       "4       heart_disease               0              0.0\n",
       "5        ever_married               0              0.0\n",
       "6           work_type               0              0.0\n",
       "7      Residence_type               0              0.0\n",
       "8   avg_glucose_level               0              0.0\n",
       "9                 bmi               0              0.0\n",
       "10     smoking_status               0              0.0\n",
       "11             stroke               0              0.0"
      ]
     },
     "metadata": {},
     "output_type": "display_data"
    }
   ],
   "source": [
    "ds.structdata.describe(data_df)"
   ]
  },
  {
   "cell_type": "code",
   "execution_count": 12,
   "metadata": {},
   "outputs": [
    {
     "data": {
      "text/html": [
       "<div>\n",
       "<style scoped>\n",
       "    .dataframe tbody tr th:only-of-type {\n",
       "        vertical-align: middle;\n",
       "    }\n",
       "\n",
       "    .dataframe tbody tr th {\n",
       "        vertical-align: top;\n",
       "    }\n",
       "\n",
       "    .dataframe thead th {\n",
       "        text-align: right;\n",
       "    }\n",
       "</style>\n",
       "<table border=\"1\" class=\"dataframe\">\n",
       "  <thead>\n",
       "    <tr style=\"text-align: right;\">\n",
       "      <th></th>\n",
       "      <th>id</th>\n",
       "      <th>gender</th>\n",
       "      <th>age</th>\n",
       "      <th>hypertension</th>\n",
       "      <th>heart_disease</th>\n",
       "      <th>ever_married</th>\n",
       "      <th>work_type</th>\n",
       "      <th>Residence_type</th>\n",
       "      <th>avg_glucose_level</th>\n",
       "      <th>bmi</th>\n",
       "      <th>smoking_status</th>\n",
       "      <th>stroke</th>\n",
       "    </tr>\n",
       "  </thead>\n",
       "  <tbody>\n",
       "    <tr>\n",
       "      <th>5105</th>\n",
       "      <td>18234</td>\n",
       "      <td>Female</td>\n",
       "      <td>80</td>\n",
       "      <td>1</td>\n",
       "      <td>0</td>\n",
       "      <td>Yes</td>\n",
       "      <td>Private</td>\n",
       "      <td>Urban</td>\n",
       "      <td>83.75</td>\n",
       "      <td></td>\n",
       "      <td>never smoked</td>\n",
       "      <td>0</td>\n",
       "    </tr>\n",
       "    <tr>\n",
       "      <th>5106</th>\n",
       "      <td>44873</td>\n",
       "      <td>Female</td>\n",
       "      <td>81</td>\n",
       "      <td>0</td>\n",
       "      <td>0</td>\n",
       "      <td>Yes</td>\n",
       "      <td>Self-employed</td>\n",
       "      <td>Urban</td>\n",
       "      <td>125.2</td>\n",
       "      <td>40</td>\n",
       "      <td>never smoked</td>\n",
       "      <td>0</td>\n",
       "    </tr>\n",
       "    <tr>\n",
       "      <th>5107</th>\n",
       "      <td>19723</td>\n",
       "      <td>Female</td>\n",
       "      <td>35</td>\n",
       "      <td>0</td>\n",
       "      <td>0</td>\n",
       "      <td>Yes</td>\n",
       "      <td>Self-employed</td>\n",
       "      <td>Rural</td>\n",
       "      <td>82.99</td>\n",
       "      <td>30.6</td>\n",
       "      <td>never smoked</td>\n",
       "      <td>0</td>\n",
       "    </tr>\n",
       "    <tr>\n",
       "      <th>5108</th>\n",
       "      <td>37544</td>\n",
       "      <td>Male</td>\n",
       "      <td>51</td>\n",
       "      <td>0</td>\n",
       "      <td>0</td>\n",
       "      <td>Yes</td>\n",
       "      <td>Private</td>\n",
       "      <td>Rural</td>\n",
       "      <td>166.29</td>\n",
       "      <td>25.6</td>\n",
       "      <td>formerly smoked</td>\n",
       "      <td>0</td>\n",
       "    </tr>\n",
       "    <tr>\n",
       "      <th>5109</th>\n",
       "      <td>44679</td>\n",
       "      <td>Female</td>\n",
       "      <td>44</td>\n",
       "      <td>0</td>\n",
       "      <td>0</td>\n",
       "      <td>Yes</td>\n",
       "      <td>Govt_job</td>\n",
       "      <td>Urban</td>\n",
       "      <td>85.28</td>\n",
       "      <td>26.2</td>\n",
       "      <td>Unknown</td>\n",
       "      <td>0</td>\n",
       "    </tr>\n",
       "  </tbody>\n",
       "</table>\n",
       "</div>"
      ],
      "text/plain": [
       "         id  gender age hypertension heart_disease ever_married  \\\n",
       "5105  18234  Female  80            1             0          Yes   \n",
       "5106  44873  Female  81            0             0          Yes   \n",
       "5107  19723  Female  35            0             0          Yes   \n",
       "5108  37544    Male  51            0             0          Yes   \n",
       "5109  44679  Female  44            0             0          Yes   \n",
       "\n",
       "          work_type Residence_type avg_glucose_level   bmi   smoking_status  \\\n",
       "5105        Private          Urban             83.75           never smoked   \n",
       "5106  Self-employed          Urban             125.2    40     never smoked   \n",
       "5107  Self-employed          Rural             82.99  30.6     never smoked   \n",
       "5108        Private          Rural            166.29  25.6  formerly smoked   \n",
       "5109       Govt_job          Urban             85.28  26.2          Unknown   \n",
       "\n",
       "     stroke  \n",
       "5105      0  \n",
       "5106      0  \n",
       "5107      0  \n",
       "5108      0  \n",
       "5109      0  "
      ]
     },
     "execution_count": 12,
     "metadata": {},
     "output_type": "execute_result"
    }
   ],
   "source": [
    "data_df.tail()"
   ]
  },
  {
   "cell_type": "code",
   "execution_count": 13,
   "metadata": {},
   "outputs": [
    {
     "name": "stdout",
     "output_type": "stream",
     "text": [
      "Unique Values in id is too large to plot\n",
      "\n",
      "\n",
      "Unique Values in age is too large to plot\n",
      "\n",
      "\n",
      "Unique Values in avg_glucose_level is too large to plot\n",
      "\n",
      "\n",
      "Unique Values in bmi is too large to plot\n",
      "\n",
      "\n"
     ]
    },
    {
     "data": {
      "image/png": "[encoded data removed]",
      "text/plain": [
       "<Figure size 360x360 with 1 Axes>"
      ]
     },
     "metadata": {
      "needs_background": "light"
     },
     "output_type": "display_data"
    },
    {
     "data": {
      "image/png": "[encoded data removed]",
      "text/plain": [
       "<Figure size 360x360 with 1 Axes>"
      ]
     },
     "metadata": {
      "needs_background": "light"
     },
     "output_type": "display_data"
    },
    {
     "data": {
      "image/png": "[encoded data removed]",
      "text/plain": [
       "<Figure size 360x360 with 1 Axes>"
      ]
     },
     "metadata": {
      "needs_background": "light"
     },
     "output_type": "display_data"
    },
    {
     "data": {
      "image/png": "[encoded data removed]",
      "text/plain": [
       "<Figure size 360x360 with 1 Axes>"
      ]
     },
     "metadata": {
      "needs_background": "light"
     },
     "output_type": "display_data"
    },
    {
     "data": {
      "image/png": "[encoded data removed]",
      "text/plain": [
       "<Figure size 360x360 with 1 Axes>"
      ]
     },
     "metadata": {
      "needs_background": "light"
     },
     "output_type": "display_data"
    },
    {
     "data": {
      "image/png": "[encoded data removed]",
      "text/plain": [
       "<Figure size 360x360 with 1 Axes>"
      ]
     },
     "metadata": {
      "needs_background": "light"
     },
     "output_type": "display_data"
    },
    {
     "data": {
      "image/png": "[encoded data removed]",
      "text/plain": [
       "<Figure size 360x360 with 1 Axes>"
      ]
     },
     "metadata": {
      "needs_background": "light"
     },
     "output_type": "display_data"
    },
    {
     "data": {
      "image/png": "[encoded data removed]",
      "text/plain": [
       "<Figure size 360x360 with 1 Axes>"
      ]
     },
     "metadata": {
      "needs_background": "light"
     },
     "output_type": "display_data"
    }
   ],
   "source": [
    "ds.visualizations.countplot(data_df)"
   ]
  },
  {
   "cell_type": "code",
   "execution_count": 14,
   "metadata": {},
   "outputs": [
    {
     "name": "stdout",
     "output_type": "stream",
     "text": [
      "Unique Values in id is too large to plot\n",
      "\n",
      "\n",
      "Unique Values in age is too large to plot\n",
      "\n",
      "\n",
      "Unique Values in avg_glucose_level is too large to plot\n",
      "\n",
      "\n",
      "Unique Values in bmi is too large to plot\n",
      "\n",
      "\n"
     ]
    },
    {
     "data": {
      "image/png": "[encoded data removed]",
      "text/plain": [
       "<Figure size 360x360 with 1 Axes>"
      ]
     },
     "metadata": {
      "needs_background": "light"
     },
     "output_type": "display_data"
    },
    {
     "data": {
      "image/png": "[encoded data removed]",
      "text/plain": [
       "<Figure size 360x360 with 1 Axes>"
      ]
     },
     "metadata": {
      "needs_background": "light"
     },
     "output_type": "display_data"
    },
    {
     "data": {
      "image/png": "[encoded data removed]",
      "text/plain": [
       "<Figure size 360x360 with 1 Axes>"
      ]
     },
     "metadata": {
      "needs_background": "light"
     },
     "output_type": "display_data"
    },
    {
     "data": {
      "image/png": "[encoded data removed]",
      "text/plain": [
       "<Figure size 360x360 with 1 Axes>"
      ]
     },
     "metadata": {
      "needs_background": "light"
     },
     "output_type": "display_data"
    },
    {
     "data": {
      "image/png": "[encoded data removed]",
      "text/plain": [
       "<Figure size 360x360 with 1 Axes>"
      ]
     },
     "metadata": {
      "needs_background": "light"
     },
     "output_type": "display_data"
    },
    {
     "data": {
      "image/png": "[encoded data removed]",
      "text/plain": [
       "<Figure size 360x360 with 1 Axes>"
      ]
     },
     "metadata": {
      "needs_background": "light"
     },
     "output_type": "display_data"
    },
    {
     "data": {
      "image/png": "[encoded data removed]",
      "text/plain": [
       "<Figure size 360x360 with 1 Axes>"
      ]
     },
     "metadata": {
      "needs_background": "light"
     },
     "output_type": "display_data"
    },
    {
     "data": {
      "image/png": "[encoded data removed]",
      "text/plain": [
       "<Figure size 360x360 with 1 Axes>"
      ]
     },
     "metadata": {
      "needs_background": "light"
     },
     "output_type": "display_data"
    }
   ],
   "source": [
    "ds.visualizations.countplot(data_df, separate_by='hypertension')"
   ]
  },
  {
   "cell_type": "markdown",
   "metadata": {},
   "source": [
    "## FEATURE ENGINEERING"
   ]
  },
  {
   "cell_type": "code",
   "execution_count": 15,
   "metadata": {},
   "outputs": [],
   "source": [
    "data_df =ds.feature_engineering.fill_missing_cats(data_df)\n",
    "\n"
   ]
  },
  {
   "cell_type": "code",
   "execution_count": 16,
   "metadata": {},
   "outputs": [],
   "source": [
    "data_df =ds.feature_engineering.fill_missing_num(data_df)"
   ]
  },
  {
   "cell_type": "code",
   "execution_count": 17,
   "metadata": {},
   "outputs": [
    {
     "data": {
      "text/plain": [
       "count     5110\n",
       "unique     418\n",
       "top       28.7\n",
       "freq       242\n",
       "Name: bmi, dtype: object"
      ]
     },
     "execution_count": 17,
     "metadata": {},
     "output_type": "execute_result"
    }
   ],
   "source": [
    "data_df['bmi'].describe()"
   ]
  },
  {
   "cell_type": "code",
   "execution_count": 18,
   "metadata": {},
   "outputs": [
    {
     "data": {
      "text/plain": [
       "Index(['id', 'gender', 'age', 'hypertension', 'heart_disease', 'ever_married',\n",
       "       'work_type', 'Residence_type', 'avg_glucose_level', 'bmi',\n",
       "       'smoking_status', 'stroke'],\n",
       "      dtype='object')"
      ]
     },
     "execution_count": 18,
     "metadata": {},
     "output_type": "execute_result"
    }
   ],
   "source": [
    "data_df.columns"
   ]
  },
  {
   "cell_type": "code",
   "execution_count": null,
   "metadata": {},
   "outputs": [],
   "source": []
  },
  {
   "cell_type": "code",
   "execution_count": 19,
   "metadata": {},
   "outputs": [],
   "source": [
    "data_df = data_df[['gender', 'age', 'hypertension', 'heart_disease', 'ever_married',\n",
    "       'work_type', 'Residence_type', 'avg_glucose_level', 'bmi',\n",
    "       'smoking_status', 'stroke']]"
   ]
  },
  {
   "cell_type": "code",
   "execution_count": 20,
   "metadata": {},
   "outputs": [
    {
     "data": {
      "text/html": [
       "<div>\n",
       "<style scoped>\n",
       "    .dataframe tbody tr th:only-of-type {\n",
       "        vertical-align: middle;\n",
       "    }\n",
       "\n",
       "    .dataframe tbody tr th {\n",
       "        vertical-align: top;\n",
       "    }\n",
       "\n",
       "    .dataframe thead th {\n",
       "        text-align: right;\n",
       "    }\n",
       "</style>\n",
       "<table border=\"1\" class=\"dataframe\">\n",
       "  <thead>\n",
       "    <tr style=\"text-align: right;\">\n",
       "      <th></th>\n",
       "      <th>gender</th>\n",
       "      <th>age</th>\n",
       "      <th>hypertension</th>\n",
       "      <th>heart_disease</th>\n",
       "      <th>ever_married</th>\n",
       "      <th>work_type</th>\n",
       "      <th>Residence_type</th>\n",
       "      <th>avg_glucose_level</th>\n",
       "      <th>bmi</th>\n",
       "      <th>smoking_status</th>\n",
       "      <th>stroke</th>\n",
       "    </tr>\n",
       "  </thead>\n",
       "  <tbody>\n",
       "    <tr>\n",
       "      <th>0</th>\n",
       "      <td>Male</td>\n",
       "      <td>67</td>\n",
       "      <td>0</td>\n",
       "      <td>1</td>\n",
       "      <td>Yes</td>\n",
       "      <td>Private</td>\n",
       "      <td>Urban</td>\n",
       "      <td>228.69</td>\n",
       "      <td>36.6</td>\n",
       "      <td>formerly smoked</td>\n",
       "      <td>1</td>\n",
       "    </tr>\n",
       "    <tr>\n",
       "      <th>1</th>\n",
       "      <td>Female</td>\n",
       "      <td>61</td>\n",
       "      <td>0</td>\n",
       "      <td>0</td>\n",
       "      <td>Yes</td>\n",
       "      <td>Self-employed</td>\n",
       "      <td>Rural</td>\n",
       "      <td>202.21</td>\n",
       "      <td>28.7</td>\n",
       "      <td>never smoked</td>\n",
       "      <td>1</td>\n",
       "    </tr>\n",
       "    <tr>\n",
       "      <th>2</th>\n",
       "      <td>Male</td>\n",
       "      <td>80</td>\n",
       "      <td>0</td>\n",
       "      <td>1</td>\n",
       "      <td>Yes</td>\n",
       "      <td>Private</td>\n",
       "      <td>Rural</td>\n",
       "      <td>105.92</td>\n",
       "      <td>32.5</td>\n",
       "      <td>never smoked</td>\n",
       "      <td>1</td>\n",
       "    </tr>\n",
       "    <tr>\n",
       "      <th>3</th>\n",
       "      <td>Female</td>\n",
       "      <td>49</td>\n",
       "      <td>0</td>\n",
       "      <td>0</td>\n",
       "      <td>Yes</td>\n",
       "      <td>Private</td>\n",
       "      <td>Urban</td>\n",
       "      <td>171.23</td>\n",
       "      <td>34.4</td>\n",
       "      <td>smokes</td>\n",
       "      <td>1</td>\n",
       "    </tr>\n",
       "    <tr>\n",
       "      <th>4</th>\n",
       "      <td>Female</td>\n",
       "      <td>79</td>\n",
       "      <td>1</td>\n",
       "      <td>0</td>\n",
       "      <td>Yes</td>\n",
       "      <td>Self-employed</td>\n",
       "      <td>Rural</td>\n",
       "      <td>174.12</td>\n",
       "      <td>24</td>\n",
       "      <td>never smoked</td>\n",
       "      <td>1</td>\n",
       "    </tr>\n",
       "  </tbody>\n",
       "</table>\n",
       "</div>"
      ],
      "text/plain": [
       "   gender age hypertension heart_disease ever_married      work_type  \\\n",
       "0    Male  67            0             1          Yes        Private   \n",
       "1  Female  61            0             0          Yes  Self-employed   \n",
       "2    Male  80            0             1          Yes        Private   \n",
       "3  Female  49            0             0          Yes        Private   \n",
       "4  Female  79            1             0          Yes  Self-employed   \n",
       "\n",
       "  Residence_type avg_glucose_level   bmi   smoking_status stroke  \n",
       "0          Urban            228.69  36.6  formerly smoked      1  \n",
       "1          Rural            202.21  28.7     never smoked      1  \n",
       "2          Rural            105.92  32.5     never smoked      1  \n",
       "3          Urban            171.23  34.4           smokes      1  \n",
       "4          Rural            174.12    24     never smoked      1  "
      ]
     },
     "execution_count": 20,
     "metadata": {},
     "output_type": "execute_result"
    }
   ],
   "source": [
    "data_df.head()"
   ]
  },
  {
   "cell_type": "code",
   "execution_count": 21,
   "metadata": {},
   "outputs": [],
   "source": [
    "from sklearn.preprocessing import LabelEncoder\n",
    "enc=LabelEncoder()"
   ]
  },
  {
   "cell_type": "code",
   "execution_count": 22,
   "metadata": {},
   "outputs": [],
   "source": [
    "gender=enc.fit_transform(data_df['gender'])"
   ]
  },
  {
   "cell_type": "code",
   "execution_count": 23,
   "metadata": {},
   "outputs": [],
   "source": [
    "smoking_status=enc.fit_transform(data_df['smoking_status'])"
   ]
  },
  {
   "cell_type": "code",
   "execution_count": 24,
   "metadata": {},
   "outputs": [],
   "source": [
    "work_type=enc.fit_transform(data_df['work_type'])\n",
    "Residence_type=enc.fit_transform(data_df['Residence_type'])\n",
    "ever_married=enc.fit_transform(data_df['ever_married'])"
   ]
  },
  {
   "cell_type": "code",
   "execution_count": 25,
   "metadata": {},
   "outputs": [],
   "source": [
    "data_df['work_type']=work_type"
   ]
  },
  {
   "cell_type": "code",
   "execution_count": 26,
   "metadata": {},
   "outputs": [],
   "source": [
    "data_df['ever_married']=ever_married\n",
    "data_df['Residence_type']=Residence_type\n",
    "data_df['smoking_status']=smoking_status\n",
    "data_df['gender']=gender"
   ]
  },
  {
   "cell_type": "code",
   "execution_count": 27,
   "metadata": {},
   "outputs": [],
   "source": [
    "#data_df =pd.get_dummies(data_df,drop_first=True)"
   ]
  },
  {
   "cell_type": "code",
   "execution_count": 28,
   "metadata": {},
   "outputs": [
    {
     "data": {
      "text/html": [
       "<div>\n",
       "<style scoped>\n",
       "    .dataframe tbody tr th:only-of-type {\n",
       "        vertical-align: middle;\n",
       "    }\n",
       "\n",
       "    .dataframe tbody tr th {\n",
       "        vertical-align: top;\n",
       "    }\n",
       "\n",
       "    .dataframe thead th {\n",
       "        text-align: right;\n",
       "    }\n",
       "</style>\n",
       "<table border=\"1\" class=\"dataframe\">\n",
       "  <thead>\n",
       "    <tr style=\"text-align: right;\">\n",
       "      <th></th>\n",
       "      <th>gender</th>\n",
       "      <th>age</th>\n",
       "      <th>hypertension</th>\n",
       "      <th>heart_disease</th>\n",
       "      <th>ever_married</th>\n",
       "      <th>work_type</th>\n",
       "      <th>Residence_type</th>\n",
       "      <th>avg_glucose_level</th>\n",
       "      <th>bmi</th>\n",
       "      <th>smoking_status</th>\n",
       "      <th>stroke</th>\n",
       "    </tr>\n",
       "  </thead>\n",
       "  <tbody>\n",
       "    <tr>\n",
       "      <th>0</th>\n",
       "      <td>1</td>\n",
       "      <td>67</td>\n",
       "      <td>0</td>\n",
       "      <td>1</td>\n",
       "      <td>1</td>\n",
       "      <td>2</td>\n",
       "      <td>1</td>\n",
       "      <td>228.69</td>\n",
       "      <td>36.6</td>\n",
       "      <td>1</td>\n",
       "      <td>1</td>\n",
       "    </tr>\n",
       "    <tr>\n",
       "      <th>1</th>\n",
       "      <td>0</td>\n",
       "      <td>61</td>\n",
       "      <td>0</td>\n",
       "      <td>0</td>\n",
       "      <td>1</td>\n",
       "      <td>3</td>\n",
       "      <td>0</td>\n",
       "      <td>202.21</td>\n",
       "      <td>28.7</td>\n",
       "      <td>2</td>\n",
       "      <td>1</td>\n",
       "    </tr>\n",
       "    <tr>\n",
       "      <th>2</th>\n",
       "      <td>1</td>\n",
       "      <td>80</td>\n",
       "      <td>0</td>\n",
       "      <td>1</td>\n",
       "      <td>1</td>\n",
       "      <td>2</td>\n",
       "      <td>0</td>\n",
       "      <td>105.92</td>\n",
       "      <td>32.5</td>\n",
       "      <td>2</td>\n",
       "      <td>1</td>\n",
       "    </tr>\n",
       "    <tr>\n",
       "      <th>3</th>\n",
       "      <td>0</td>\n",
       "      <td>49</td>\n",
       "      <td>0</td>\n",
       "      <td>0</td>\n",
       "      <td>1</td>\n",
       "      <td>2</td>\n",
       "      <td>1</td>\n",
       "      <td>171.23</td>\n",
       "      <td>34.4</td>\n",
       "      <td>3</td>\n",
       "      <td>1</td>\n",
       "    </tr>\n",
       "    <tr>\n",
       "      <th>4</th>\n",
       "      <td>0</td>\n",
       "      <td>79</td>\n",
       "      <td>1</td>\n",
       "      <td>0</td>\n",
       "      <td>1</td>\n",
       "      <td>3</td>\n",
       "      <td>0</td>\n",
       "      <td>174.12</td>\n",
       "      <td>24</td>\n",
       "      <td>2</td>\n",
       "      <td>1</td>\n",
       "    </tr>\n",
       "  </tbody>\n",
       "</table>\n",
       "</div>"
      ],
      "text/plain": [
       "   gender age hypertension heart_disease  ever_married  work_type  \\\n",
       "0       1  67            0             1             1          2   \n",
       "1       0  61            0             0             1          3   \n",
       "2       1  80            0             1             1          2   \n",
       "3       0  49            0             0             1          2   \n",
       "4       0  79            1             0             1          3   \n",
       "\n",
       "   Residence_type avg_glucose_level   bmi  smoking_status stroke  \n",
       "0               1            228.69  36.6               1      1  \n",
       "1               0            202.21  28.7               2      1  \n",
       "2               0            105.92  32.5               2      1  \n",
       "3               1            171.23  34.4               3      1  \n",
       "4               0            174.12    24               2      1  "
      ]
     },
     "execution_count": 28,
     "metadata": {},
     "output_type": "execute_result"
    }
   ],
   "source": [
    "data_df.head()"
   ]
  },
  {
   "cell_type": "code",
   "execution_count": 29,
   "metadata": {},
   "outputs": [
    {
     "data": {
      "text/plain": [
       "gender                int32\n",
       "age                  object\n",
       "hypertension         object\n",
       "heart_disease        object\n",
       "ever_married          int32\n",
       "work_type             int32\n",
       "Residence_type        int32\n",
       "avg_glucose_level    object\n",
       "bmi                  object\n",
       "smoking_status        int32\n",
       "stroke               object\n",
       "dtype: object"
      ]
     },
     "execution_count": 29,
     "metadata": {},
     "output_type": "execute_result"
    }
   ],
   "source": [
    "data_df.dtypes"
   ]
  },
  {
   "cell_type": "code",
   "execution_count": null,
   "metadata": {},
   "outputs": [],
   "source": []
  },
  {
   "cell_type": "code",
   "execution_count": null,
   "metadata": {},
   "outputs": [],
   "source": [
    "\n",
    "\n"
   ]
  },
  {
   "cell_type": "code",
   "execution_count": null,
   "metadata": {},
   "outputs": [],
   "source": []
  },
  {
   "cell_type": "code",
   "execution_count": 30,
   "metadata": {},
   "outputs": [
    {
     "data": {
      "text/plain": [
       "gender                int32\n",
       "age                  object\n",
       "hypertension         object\n",
       "heart_disease        object\n",
       "ever_married          int32\n",
       "work_type             int32\n",
       "Residence_type        int32\n",
       "avg_glucose_level    object\n",
       "bmi                  object\n",
       "smoking_status        int32\n",
       "stroke               object\n",
       "dtype: object"
      ]
     },
     "execution_count": 30,
     "metadata": {},
     "output_type": "execute_result"
    }
   ],
   "source": [
    "data_df.dtypes"
   ]
  },
  {
   "cell_type": "code",
   "execution_count": null,
   "metadata": {},
   "outputs": [],
   "source": []
  },
  {
   "cell_type": "code",
   "execution_count": 31,
   "metadata": {},
   "outputs": [
    {
     "data": {
      "text/html": [
       "<div>\n",
       "<style scoped>\n",
       "    .dataframe tbody tr th:only-of-type {\n",
       "        vertical-align: middle;\n",
       "    }\n",
       "\n",
       "    .dataframe tbody tr th {\n",
       "        vertical-align: top;\n",
       "    }\n",
       "\n",
       "    .dataframe thead th {\n",
       "        text-align: right;\n",
       "    }\n",
       "</style>\n",
       "<table border=\"1\" class=\"dataframe\">\n",
       "  <thead>\n",
       "    <tr style=\"text-align: right;\">\n",
       "      <th></th>\n",
       "      <th>gender</th>\n",
       "      <th>ever_married</th>\n",
       "      <th>work_type</th>\n",
       "      <th>Residence_type</th>\n",
       "      <th>smoking_status</th>\n",
       "    </tr>\n",
       "  </thead>\n",
       "  <tbody>\n",
       "    <tr>\n",
       "      <th>gender</th>\n",
       "      <td>1.000000</td>\n",
       "      <td>-0.031005</td>\n",
       "      <td>0.056422</td>\n",
       "      <td>-0.006738</td>\n",
       "      <td>-0.062581</td>\n",
       "    </tr>\n",
       "    <tr>\n",
       "      <th>ever_married</th>\n",
       "      <td>-0.031005</td>\n",
       "      <td>1.000000</td>\n",
       "      <td>-0.352722</td>\n",
       "      <td>0.006261</td>\n",
       "      <td>0.259647</td>\n",
       "    </tr>\n",
       "    <tr>\n",
       "      <th>work_type</th>\n",
       "      <td>0.056422</td>\n",
       "      <td>-0.352722</td>\n",
       "      <td>1.000000</td>\n",
       "      <td>-0.007316</td>\n",
       "      <td>-0.305927</td>\n",
       "    </tr>\n",
       "    <tr>\n",
       "      <th>Residence_type</th>\n",
       "      <td>-0.006738</td>\n",
       "      <td>0.006261</td>\n",
       "      <td>-0.007316</td>\n",
       "      <td>1.000000</td>\n",
       "      <td>0.008237</td>\n",
       "    </tr>\n",
       "    <tr>\n",
       "      <th>smoking_status</th>\n",
       "      <td>-0.062581</td>\n",
       "      <td>0.259647</td>\n",
       "      <td>-0.305927</td>\n",
       "      <td>0.008237</td>\n",
       "      <td>1.000000</td>\n",
       "    </tr>\n",
       "  </tbody>\n",
       "</table>\n",
       "</div>"
      ],
      "text/plain": [
       "                  gender  ever_married  work_type  Residence_type  \\\n",
       "gender          1.000000     -0.031005   0.056422       -0.006738   \n",
       "ever_married   -0.031005      1.000000  -0.352722        0.006261   \n",
       "work_type       0.056422     -0.352722   1.000000       -0.007316   \n",
       "Residence_type -0.006738      0.006261  -0.007316        1.000000   \n",
       "smoking_status -0.062581      0.259647  -0.305927        0.008237   \n",
       "\n",
       "                smoking_status  \n",
       "gender               -0.062581  \n",
       "ever_married          0.259647  \n",
       "work_type            -0.305927  \n",
       "Residence_type        0.008237  \n",
       "smoking_status        1.000000  "
      ]
     },
     "execution_count": 31,
     "metadata": {},
     "output_type": "execute_result"
    }
   ],
   "source": [
    "#correlation matrix\n",
    "data_df.corr()"
   ]
  },
  {
   "cell_type": "code",
   "execution_count": 32,
   "metadata": {},
   "outputs": [],
   "source": [
    "#corrMatrix = data_df.corr()\n",
    "#import seaborn as sns\n",
    "#sns.heatmap(corrMatrix, annot=True)\n",
    "#sns.set(rc = {'figure.figsize':(25,25)})\n",
    "#plt.show()"
   ]
  },
  {
   "cell_type": "code",
   "execution_count": 33,
   "metadata": {},
   "outputs": [],
   "source": [
    "#import seaborn as sns\n",
    "#sns.heatmap(data_df.corr())"
   ]
  },
  {
   "cell_type": "markdown",
   "metadata": {},
   "source": [
    "## Modelling"
   ]
  },
  {
   "cell_type": "code",
   "execution_count": 34,
   "metadata": {},
   "outputs": [
    {
     "data": {
      "text/plain": [
       "Index(['gender', 'age', 'hypertension', 'heart_disease', 'ever_married',\n",
       "       'work_type', 'Residence_type', 'avg_glucose_level', 'bmi',\n",
       "       'smoking_status', 'stroke'],\n",
       "      dtype='object')"
      ]
     },
     "execution_count": 34,
     "metadata": {},
     "output_type": "execute_result"
    }
   ],
   "source": [
    "data_df.columns"
   ]
  },
  {
   "cell_type": "code",
   "execution_count": 35,
   "metadata": {},
   "outputs": [],
   "source": [
    "X = data_df.drop('stroke', axis =1)\n",
    "y = data_df.stroke"
   ]
  },
  {
   "cell_type": "code",
   "execution_count": 36,
   "metadata": {},
   "outputs": [],
   "source": [
    "from sklearn.model_selection import train_test_split\n",
    "x_train, xtest, ytrain, ytest = train_test_split(X,y, test_size=0.3, random_state = 42)"
   ]
  },
  {
   "cell_type": "code",
   "execution_count": 37,
   "metadata": {},
   "outputs": [],
   "source": [
    "from sklearn.ensemble import RandomForestRegressor"
   ]
  },
  {
   "cell_type": "code",
   "execution_count": 38,
   "metadata": {},
   "outputs": [
    {
     "data": {
      "text/plain": [
       "RandomForestRegressor()"
      ]
     },
     "execution_count": 38,
     "metadata": {},
     "output_type": "execute_result"
    }
   ],
   "source": [
    "model = RandomForestRegressor()\n",
    "model.fit(x_train,ytrain)"
   ]
  },
  {
   "cell_type": "code",
   "execution_count": 39,
   "metadata": {},
   "outputs": [],
   "source": [
    "predictions = model.predict(xtest)"
   ]
  },
  {
   "cell_type": "code",
   "execution_count": 40,
   "metadata": {},
   "outputs": [],
   "source": [
    "from sklearn import metrics"
   ]
  },
  {
   "cell_type": "code",
   "execution_count": 41,
   "metadata": {},
   "outputs": [
    {
     "name": "stdout",
     "output_type": "stream",
     "text": [
      "RMSE: 0.22731135056975788\n"
     ]
    }
   ],
   "source": [
    "import numpy as np\n",
    "print('RMSE:',np.sqrt(metrics.mean_squared_error(ytest, predictions)))"
   ]
  },
  {
   "cell_type": "code",
   "execution_count": 42,
   "metadata": {},
   "outputs": [],
   "source": [
    "import pickle\n",
    "file = open('random_forest_model.pkl', 'wb')\n",
    "pickle.dump(model,file)"
   ]
  },
  {
   "cell_type": "code",
   "execution_count": 43,
   "metadata": {},
   "outputs": [
    {
     "data": {
      "image/png": "[encoded data removed]",
      "text/plain": [
       "<Figure size 1440x360 with 1 Axes>"
      ]
     },
     "metadata": {
      "needs_background": "light"
     },
     "output_type": "display_data"
    }
   ],
   "source": [
    "#plot graph of feature importances for better visualization\n",
    "import matplotlib.pyplot as plt\n",
    "feat_importances =pd.Series(model.feature_importances_, index = x_train.columns)\n",
    "feat_importances.nlargest(5).plot(kind='barh', figsize=(20,5))\n",
    "plt.show()"
   ]
  },
  {
   "cell_type": "code",
   "execution_count": 44,
   "metadata": {},
   "outputs": [
    {
     "data": {
      "image/png": "[encoded data removed]",
      "text/plain": [
       "<Figure size 1440x360 with 1 Axes>"
      ]
     },
     "metadata": {
      "needs_background": "light"
     },
     "output_type": "display_data"
    }
   ],
   "source": [
    "#plot graph of feature importances for better visualization\n",
    "import matplotlib.pyplot as plt\n",
    "feat_importances =pd.Series(model.feature_importances_, index = x_train.columns)\n",
    "feat_importances.nlargest(5).plot(kind='barh', figsize=(20,5))\n",
    "plt.show()"
   ]
  },
  {
   "cell_type": "code",
   "execution_count": null,
   "metadata": {},
   "outputs": [],
   "source": []
  },
  {
   "cell_type": "code",
   "execution_count": null,
   "metadata": {},
   "outputs": [],
   "source": []
  },
  {
   "cell_type": "code",
   "execution_count": null,
   "metadata": {},
   "outputs": [],
   "source": []
  },
  {
   "cell_type": "code",
   "execution_count": null,
   "metadata": {},
   "outputs": [],
   "source": []
  }
 ],
 "metadata": {
  "kernelspec": {
   "display_name": "Python 3.10.7 64-bit (microsoft store)",
   "language": "python",
   "name": "python3"
  },
  "language_info": {
   "codemirror_mode": {
    "name": "ipython",
    "version": 3
   },
   "file_extension": ".py",
   "mimetype": "text/x-python",
   "name": "python",
   "nbconvert_exporter": "python",
   "pygments_lexer": "ipython3",
   "version": "3.10.7"
  },
  "vscode": {
   "interpreter": {
    "hash": "03756cc800a72324aeded23355f0c21027ef9db0b8739c699448e7fe81b93185"
   }
  }
 },
 "nbformat": 4,
 "nbformat_minor": 4
}
